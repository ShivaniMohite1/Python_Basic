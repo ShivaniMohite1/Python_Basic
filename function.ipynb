{
 "cells": [
  {
   "cell_type": "code",
   "execution_count": 3,
   "id": "8801a0c4",
   "metadata": {
    "scrolled": true
   },
   "outputs": [
    {
     "name": "stdout",
     "output_type": "stream",
     "text": [
      "Sum: 12\n"
     ]
    }
   ],
   "source": [
    "#Q.1] Write a Python function called add_numbers that takes two numbers as arguments and returns their sum.\n",
    "\n",
    "\n",
    "def add_numbers(num1, num2):\n",
    "    return num1 + num2\n",
    "result = add_numbers(5, 7)\n",
    "\n",
    "print(\"Sum:\", result)"
   ]
  },
  {
   "cell_type": "code",
   "execution_count": 4,
   "id": "0ebcd5fa",
   "metadata": {},
   "outputs": [
    {
     "name": "stdout",
     "output_type": "stream",
     "text": [
      "multiply: 22\n"
     ]
    }
   ],
   "source": [
    "# Q.2] Write a Python function called multiply_numbers that takes two numbers as arguments and returns their product\n",
    "\n",
    "def multiply_number(num1, num2):\n",
    "    return num1*num2\n",
    "result = multiply_number(11,2)\n",
    "print(\"multiply:\", result)"
   ]
  },
  {
   "cell_type": "code",
   "execution_count": 10,
   "id": "188e77b2",
   "metadata": {},
   "outputs": [
    {
     "name": "stdout",
     "output_type": "stream",
     "text": [
      "Average: 6.833333333333333\n"
     ]
    }
   ],
   "source": [
    "# Q.3] Write a Python function called calculate_average that takes a list of numbers as an argument and returns their average\n",
    "\n",
    "\n",
    "calculate_average = lambda numbers: sum(numbers) / len(numbers) if numbers else 0\n",
    "\n",
    "number_list = [1,12, 4, 6, 8, 10]\n",
    "result = calculate_average(number_list)\n",
    "print(\"Average:\", result)\n",
    "    "
   ]
  },
  {
   "cell_type": "code",
   "execution_count": 11,
   "id": "0016623b",
   "metadata": {},
   "outputs": [
    {
     "name": "stdout",
     "output_type": "stream",
     "text": [
      "2^ 3 = 8\n"
     ]
    }
   ],
   "source": [
    "#Q.4] Write a Python function called calculate_power that takes a base and an exponent as arguments and returns the result of raising the base to the exponent\n",
    "\n",
    "calculate_power = lambda base, exponent: base ** exponent\n",
    "\n",
    "base_number = 2\n",
    "exponent_value = 3\n",
    "result = calculate_power(base_number, exponent_value)\n",
    "print(f\"{base_number}^ {exponent_value} =\", result)"
   ]
  },
  {
   "cell_type": "code",
   "execution_count": 17,
   "id": "da40dced",
   "metadata": {},
   "outputs": [
    {
     "name": "stdout",
     "output_type": "stream",
     "text": [
      "2^ 3 = 8\n"
     ]
    }
   ],
   "source": [
    "# Q.4 ]\n",
    "\n",
    "def calculate_power(base, exponent):\n",
    "    \n",
    "    return base ** exponent\n",
    "\n",
    "\n",
    "base_number = 2\n",
    "exponent_value = 3\n",
    "result = calculate_power(base_number, exponent_value)\n",
    "print(f\"{base_number}^ {exponent_value} =\", result)\n"
   ]
  },
  {
   "cell_type": "code",
   "execution_count": 12,
   "id": "cd5b585d",
   "metadata": {},
   "outputs": [
    {
     "name": "stdout",
     "output_type": "stream",
     "text": [
      "Original List: [7, 2, 3, 4, 5]\n",
      "Reversed List: [5, 4, 3, 2, 7]\n"
     ]
    }
   ],
   "source": [
    "# Q.5] Write a Python function called reverse_list that takes a list as an argument and returns a new list with the elements reversed.\n",
    "\n",
    "\n",
    "reverse_list = lambda input_list: list(reversed(input_list))\n",
    "\n",
    "original_list = [7, 2, 3, 4, 5]\n",
    "reversed_result = reverse_list(original_list)\n",
    "print(\"Original List:\", original_list)\n",
    "print(\"Reversed List:\", reversed_result)\n"
   ]
  },
  {
   "cell_type": "code",
   "execution_count": 16,
   "id": "102ff6be",
   "metadata": {},
   "outputs": [
    {
     "name": "stdout",
     "output_type": "stream",
     "text": [
      "Original List: [1, 2, 3, 4, 5]\n",
      "Reversed List: [5, 4, 3, 2, 1]\n"
     ]
    }
   ],
   "source": [
    "# Q.5] Write a Python function called reverse_list that takes a list as an argument and returns a new list with the elements reversed.\n",
    "\n",
    "\n",
    "def reverse_list(input_list):\n",
    "   \n",
    "    return list(reversed(input_list))\n",
    "\n",
    "original_list = [1, 2, 3, 4, 5]\n",
    "reversed_result = reverse_list(original_list)\n",
    "print(\"Original List:\", original_list)\n",
    "print(\"Reversed List:\", reversed_result)\n"
   ]
  },
  {
   "cell_type": "code",
   "execution_count": 15,
   "id": "5d62f4e4",
   "metadata": {},
   "outputs": [
    {
     "name": "stdout",
     "output_type": "stream",
     "text": [
      "The factorial of 5 is: 120\n"
     ]
    }
   ],
   "source": [
    "# Q.6] Write a Python function called calculate_factorial that takes a positive integer as an argument and returns the factorial of that number\n",
    "\n",
    "def calculate_factorial(n):\n",
    "    if n == 0 or n == 1:\n",
    "        return 1\n",
    "    else:\n",
    "        return n * calculate_factorial(n - 1)\n",
    "\n",
    "number = 5\n",
    "result = calculate_factorial(number)\n",
    "print(f\"The factorial of {number} is:\", result)\n"
   ]
  },
  {
   "cell_type": "code",
   "execution_count": 13,
   "id": "63c9dd99",
   "metadata": {},
   "outputs": [],
   "source": [
    "import functools"
   ]
  },
  {
   "cell_type": "code",
   "execution_count": 6,
   "id": "7f46213c",
   "metadata": {},
   "outputs": [
    {
     "name": "stdout",
     "output_type": "stream",
     "text": [
      "The factorial of 5 is: 120\n"
     ]
    }
   ],
   "source": [
    "from functools import reduce\n",
    "calculate_factorial = lambda n: reduce(lambda x, y: x * y, range(1, n + 1)) if n > 1 else 1\n",
    "\n",
    "number = 5\n",
    "result = calculate_factorial(number)\n",
    "print(f\"The factorial of {number} is:\", result)"
   ]
  },
  {
   "cell_type": "code",
   "execution_count": null,
   "id": "76a91d5d",
   "metadata": {},
   "outputs": [],
   "source": []
  }
 ],
 "metadata": {
  "kernelspec": {
   "display_name": "Python 3 (ipykernel)",
   "language": "python",
   "name": "python3"
  },
  "language_info": {
   "codemirror_mode": {
    "name": "ipython",
    "version": 3
   },
   "file_extension": ".py",
   "mimetype": "text/x-python",
   "name": "python",
   "nbconvert_exporter": "python",
   "pygments_lexer": "ipython3",
   "version": "3.11.5"
  }
 },
 "nbformat": 4,
 "nbformat_minor": 5
}
