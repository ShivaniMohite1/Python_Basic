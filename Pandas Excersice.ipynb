{
 "cells": [
  {
   "cell_type": "markdown",
   "id": "32b840b9",
   "metadata": {},
   "source": [
    "Problem 1: Create a Pandas Series from a list [10, 20, 30, 40, 50] and print it."
   ]
  },
  {
   "cell_type": "code",
   "execution_count": 1,
   "id": "770da5cb",
   "metadata": {},
   "outputs": [],
   "source": [
    "import pandas as pd"
   ]
  },
  {
   "cell_type": "code",
   "execution_count": 2,
   "id": "c33ca476",
   "metadata": {},
   "outputs": [
    {
     "data": {
      "text/plain": [
       "0    10\n",
       "1    20\n",
       "2    30\n",
       "3    40\n",
       "4    50\n",
       "dtype: int64"
      ]
     },
     "execution_count": 2,
     "metadata": {},
     "output_type": "execute_result"
    }
   ],
   "source": [
    "data_list = [10, 20, 30, 40, 50]\n",
    "series = pd.Series(data_list)\n",
    "\n",
    "series"
   ]
  },
  {
   "cell_type": "markdown",
   "id": "b42d4569",
   "metadata": {},
   "source": [
    "Problem 2: Create a Pandas Series with custom index labels from a dictionary { 'a': 10, 'b': 20, 'c': 30 } and print it."
   ]
  },
  {
   "cell_type": "code",
   "execution_count": 3,
   "id": "60787a5a",
   "metadata": {},
   "outputs": [
    {
     "data": {
      "text/plain": [
       "a    10\n",
       "b    20\n",
       "c    30\n",
       "dtype: int64"
      ]
     },
     "execution_count": 3,
     "metadata": {},
     "output_type": "execute_result"
    }
   ],
   "source": [
    "data_dict = {'a': 10, 'b': 20, 'c': 30}\n",
    "series_custom_index = pd.Series(data_dict)\n",
    "\n",
    "series_custom_index"
   ]
  },
  {
   "cell_type": "markdown",
   "id": "cd6f5eed",
   "metadata": {},
   "source": [
    "Problem 3: Given a Pandas Series [10, 20, 30, 40, 50], print the value at index label '3'."
   ]
  },
  {
   "cell_type": "code",
   "execution_count": 36,
   "id": "e7312451",
   "metadata": {},
   "outputs": [
    {
     "data": {
      "text/plain": [
       "40"
      ]
     },
     "execution_count": 36,
     "metadata": {},
     "output_type": "execute_result"
    }
   ],
   "source": [
    "S1 = pd.Series([10, 20, 30, 40, 50], index = ['0','1','2','3','4'])\n",
    "S1\n",
    "\n",
    "S1['3']"
   ]
  },
  {
   "cell_type": "markdown",
   "id": "989f05af",
   "metadata": {},
   "source": [
    "Problem 4: Given a Pandas Series [10, 20, 30, 40, 50], change the value at index label '2' to 35."
   ]
  },
  {
   "cell_type": "code",
   "execution_count": 38,
   "id": "02846a1e",
   "metadata": {},
   "outputs": [
    {
     "data": {
      "text/plain": [
       "0    10\n",
       "1    20\n",
       "2    30\n",
       "3    40\n",
       "4    50\n",
       "2    35\n",
       "dtype: int64"
      ]
     },
     "execution_count": 38,
     "metadata": {},
     "output_type": "execute_result"
    }
   ],
   "source": [
    "data_list = [10, 20, 30, 40, 50]\n",
    "series = pd.Series(data_list)\n",
    "\n",
    "series['2'] = 35\n",
    "series"
   ]
  },
  {
   "cell_type": "code",
   "execution_count": 16,
   "id": "05279823",
   "metadata": {},
   "outputs": [
    {
     "data": {
      "text/plain": [
       "0    10\n",
       "1    20\n",
       "2    30\n",
       "3    40\n",
       "4    50\n",
       "2    35\n",
       "dtype: int64"
      ]
     },
     "execution_count": 16,
     "metadata": {},
     "output_type": "execute_result"
    }
   ],
   "source": [
    "data_list = [10, 20, 30, 40, 50]\n",
    "series = pd.Series(data_list)\n",
    "\n",
    "series.loc['2'] = 35\n",
    "series"
   ]
  },
  {
   "cell_type": "markdown",
   "id": "cf65742a",
   "metadata": {},
   "source": [
    "Problem 5: Given a Pandas Series [10, 20, 30, 40, 50], filter the values greater than 30."
   ]
  },
  {
   "cell_type": "code",
   "execution_count": 39,
   "id": "b49db1b4",
   "metadata": {},
   "outputs": [
    {
     "data": {
      "text/plain": [
       "3    40\n",
       "4    50\n",
       "dtype: int64"
      ]
     },
     "execution_count": 39,
     "metadata": {},
     "output_type": "execute_result"
    }
   ],
   "source": [
    "data_list = [10, 20, 30, 40, 50]\n",
    "s1 = pd.Series(data_list)\n",
    "\n",
    "filtered_series = s1[s1>30]\n",
    "filtered_series"
   ]
  },
  {
   "cell_type": "code",
   "execution_count": null,
   "id": "fb83a5c5",
   "metadata": {},
   "outputs": [],
   "source": []
  }
 ],
 "metadata": {
  "kernelspec": {
   "display_name": "Python 3 (ipykernel)",
   "language": "python",
   "name": "python3"
  },
  "language_info": {
   "codemirror_mode": {
    "name": "ipython",
    "version": 3
   },
   "file_extension": ".py",
   "mimetype": "text/x-python",
   "name": "python",
   "nbconvert_exporter": "python",
   "pygments_lexer": "ipython3",
   "version": "3.11.5"
  }
 },
 "nbformat": 4,
 "nbformat_minor": 5
}
