{
 "cells": [
  {
   "cell_type": "code",
   "execution_count": 1,
   "id": "7a7a8dab",
   "metadata": {},
   "outputs": [],
   "source": [
    "import numpy as np"
   ]
  },
  {
   "cell_type": "code",
   "execution_count": 2,
   "id": "bf2db3e0",
   "metadata": {},
   "outputs": [
    {
     "data": {
      "text/plain": [
       "[1, 2, 3, 4, 5]"
      ]
     },
     "execution_count": 2,
     "metadata": {},
     "output_type": "execute_result"
    }
   ],
   "source": [
    "# 1) How can I create a NumPy array by converting a Python list into an array? my_list = [1, 2, 3, 4, 5]\n",
    "\n",
    "\n",
    "my_list = [1,2,3,4,5]\n",
    "my_list"
   ]
  },
  {
   "cell_type": "code",
   "execution_count": 7,
   "id": "fa845f01",
   "metadata": {},
   "outputs": [
    {
     "data": {
      "text/plain": [
       "array([1, 2, 3, 4, 5])"
      ]
     },
     "execution_count": 7,
     "metadata": {},
     "output_type": "execute_result"
    }
   ],
   "source": [
    "# 2) Can I create a 2D NumPy array from a list of lists?\n",
    "\n",
    "\n",
    "arr_2d = np.array(my_list)\n",
    "arr_2d\n",
    "\n"
   ]
  },
  {
   "cell_type": "code",
   "execution_count": 20,
   "id": "6e84b0a3",
   "metadata": {},
   "outputs": [],
   "source": [
    "# 3) How do I create a reversed array of even integers using numpy.arange()? \n",
    "\n",
    "even_integers = np.arange(2, 21, 2) \n",
    "reversed_even_integers = even_integers[::-1]"
   ]
  },
  {
   "cell_type": "code",
   "execution_count": 21,
   "id": "bcd999d2",
   "metadata": {},
   "outputs": [
    {
     "data": {
      "text/plain": [
       "array([20, 18, 16, 14, 12, 10,  8,  6,  4,  2])"
      ]
     },
     "execution_count": 21,
     "metadata": {},
     "output_type": "execute_result"
    }
   ],
   "source": [
    "reversed_even_integers"
   ]
  },
  {
   "cell_type": "code",
   "execution_count": 18,
   "id": "26e88746",
   "metadata": {},
   "outputs": [],
   "source": [
    "# 4) How can I create an array with decreasing values using numpy.arange()?\n",
    "\n",
    "\n",
    "decreasing_array = np.arange(10, 0, -1)"
   ]
  },
  {
   "cell_type": "code",
   "execution_count": 19,
   "id": "1a2e6bfc",
   "metadata": {},
   "outputs": [
    {
     "data": {
      "text/plain": [
       "array([10,  9,  8,  7,  6,  5,  4,  3,  2,  1])"
      ]
     },
     "execution_count": 19,
     "metadata": {},
     "output_type": "execute_result"
    }
   ],
   "source": [
    "decreasing_array"
   ]
  },
  {
   "cell_type": "code",
   "execution_count": 31,
   "id": "6e81bfcf",
   "metadata": {},
   "outputs": [
    {
     "name": "stdout",
     "output_type": "stream",
     "text": [
      "Array: [-2.         -1.33333333 -0.66666667  0.          0.66666667  1.33333333\n",
      "  2.        ]\n",
      "Sum of squares: 12.444444444444445\n"
     ]
    }
   ],
   "source": [
    "# 5) Generate an array of 7 numbers equally spaced between -2 and 2. What is the sum of their squares?\n",
    "\n",
    "\n",
    "import numpy as np\n",
    "\n",
    "\n",
    "numbers = np.linspace(-2, 2, 7)\n",
    "sum_of_squares = np.sum(numbers**2)\n",
    "\n",
    "\n",
    "print(\"Array:\", numbers)\n",
    "print(\"Sum of squares:\", sum_of_squares)"
   ]
  },
  {
   "cell_type": "code",
   "execution_count": 32,
   "id": "0c676194",
   "metadata": {},
   "outputs": [
    {
     "name": "stdout",
     "output_type": "stream",
     "text": [
      "Array: [10.         10.90909091 11.81818182 12.72727273 13.63636364 14.54545455\n",
      " 15.45454545 16.36363636 17.27272727 18.18181818 19.09090909 20.        ]\n",
      "Average: 15.0\n"
     ]
    }
   ],
   "source": [
    "# 6)\tCreate an array containing 12 numbers that are evenly spaced between 10 and 20. What is the average of these numbers?\n",
    "\n",
    "import numpy as np\n",
    "\n",
    "\n",
    "numbers = np.linspace(10, 20, 12)\n",
    "average = np.mean(numbers)\n",
    "\n",
    "\n",
    "print(\"Array:\", numbers)\n",
    "print(\"Average:\", average)\n"
   ]
  },
  {
   "cell_type": "code",
   "execution_count": 36,
   "id": "9c9e010f",
   "metadata": {},
   "outputs": [
    {
     "name": "stdout",
     "output_type": "stream",
     "text": [
      "Identity Matrix:\n",
      "[[1. 0. 0.]\n",
      " [0. 1. 0.]\n",
      " [0. 0. 1.]]\n"
     ]
    }
   ],
   "source": [
    "# 1) Create a 3x3 identity matrix and multiply it by a vector [2, 3, 4]. What is the result?\n",
    "\n",
    "import numpy as np\n",
    "\n",
    "\n",
    "identity_matrix = np.eye(3)\n",
    "vector = np.array([2, 3, 4])\n",
    "\n",
    "result = np.dot(identity_matrix, vector)\n",
    "\n",
    "\n",
    "print(\"Identity Matrix:\")\n",
    "print(identity_matrix)\n"
   ]
  },
  {
   "cell_type": "code",
   "execution_count": 37,
   "id": "bb7f7af2",
   "metadata": {},
   "outputs": [
    {
     "data": {
      "text/plain": [
       "array([2, 3, 4])"
      ]
     },
     "execution_count": 37,
     "metadata": {},
     "output_type": "execute_result"
    }
   ],
   "source": [
    "vector"
   ]
  },
  {
   "cell_type": "code",
   "execution_count": 40,
   "id": "cde00610",
   "metadata": {},
   "outputs": [
    {
     "data": {
      "text/plain": [
       "array([2., 3., 4.])"
      ]
     },
     "execution_count": 40,
     "metadata": {},
     "output_type": "execute_result"
    }
   ],
   "source": [
    "result "
   ]
  },
  {
   "cell_type": "code",
   "execution_count": null,
   "id": "37608ee6",
   "metadata": {},
   "outputs": [],
   "source": []
  },
  {
   "cell_type": "code",
   "execution_count": null,
   "id": "229ed001",
   "metadata": {},
   "outputs": [],
   "source": []
  }
 ],
 "metadata": {
  "kernelspec": {
   "display_name": "Python 3 (ipykernel)",
   "language": "python",
   "name": "python3"
  },
  "language_info": {
   "codemirror_mode": {
    "name": "ipython",
    "version": 3
   },
   "file_extension": ".py",
   "mimetype": "text/x-python",
   "name": "python",
   "nbconvert_exporter": "python",
   "pygments_lexer": "ipython3",
   "version": "3.11.5"
  }
 },
 "nbformat": 4,
 "nbformat_minor": 5
}
