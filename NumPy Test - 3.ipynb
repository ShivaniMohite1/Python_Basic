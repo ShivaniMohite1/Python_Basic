{
 "cells": [
  {
   "cell_type": "code",
   "execution_count": 1,
   "id": "aad790da",
   "metadata": {},
   "outputs": [
    {
     "name": "stdout",
     "output_type": "stream",
     "text": [
      "Third element: 3\n"
     ]
    }
   ],
   "source": [
    "#1] Given a numpy array [1, 2, 3, 4, 5], print the third element\n",
    "\n",
    "import numpy as np\n",
    "\n",
    "\n",
    "my_array = np.array([1, 2, 3, 4, 5])\n",
    "print(\"Third element:\", my_array[2])\n"
   ]
  },
  {
   "cell_type": "code",
   "execution_count": 2,
   "id": "33aa49db",
   "metadata": {},
   "outputs": [
    {
     "name": "stdout",
     "output_type": "stream",
     "text": [
      "Element at the second row and third column: 6\n"
     ]
    }
   ],
   "source": [
    "# 2] Given a 2D numpy array [[1, 2, 3], [4, 5, 6], [7, 8, 9]], print the element at the second row and third column\n",
    "\n",
    "import numpy as np\n",
    "\n",
    "\n",
    "my_2d_array = np.array([[1, 2, 3], [4, 5, 6], [7, 8, 9]])\n",
    "\n",
    "element = my_2d_array[1, 2]\n",
    "print(\"Element at the second row and third column:\", element)\n"
   ]
  },
  {
   "cell_type": "code",
   "execution_count": 3,
   "id": "533c731b",
   "metadata": {},
   "outputs": [
    {
     "name": "stdout",
     "output_type": "stream",
     "text": [
      "New array: [10 20 30 40 60]\n"
     ]
    }
   ],
   "source": [
    "# 3] Given a numpy array [10, 20, 30, 40, 50], change the value of the last element to 60.\n",
    "\n",
    "import numpy as np\n",
    "\n",
    "my_array = np.array([10, 20, 30, 40, 50])\n",
    "my_array[-1] = 60\n",
    "\n",
    "print(\"New array:\", my_array)\n"
   ]
  },
  {
   "cell_type": "code",
   "execution_count": 4,
   "id": "1921fb9d",
   "metadata": {},
   "outputs": [
    {
     "name": "stdout",
     "output_type": "stream",
     "text": [
      "Second column: [2 5 8]\n"
     ]
    }
   ],
   "source": [
    "# 4]  Given a 2D numpy array [[1, 2, 3], [4, 5, 6], [7, 8, 9]], print the second column.\n",
    "\n",
    "import numpy as np\n",
    "\n",
    "my_2d_array = np.array([[1, 2, 3], [4, 5, 6], [7, 8, 9]])\n",
    "\n",
    "second_column = my_2d_array[:, 1]\n",
    "\n",
    "print(\"Second column:\", second_column)\n"
   ]
  },
  {
   "cell_type": "code",
   "execution_count": 5,
   "id": "18c84080",
   "metadata": {},
   "outputs": [
    {
     "name": "stdout",
     "output_type": "stream",
     "text": [
      "Last two rows:\n",
      "[[4 5 6]\n",
      " [7 8 9]]\n"
     ]
    }
   ],
   "source": [
    "# 5] Given a 2D numpy array [[1, 2, 3], [4, 5, 6], [7, 8, 9]], print the last two rows.\n",
    "\n",
    "import numpy as np\n",
    "\n",
    "my_2d_array = np.array([[1, 2, 3], [4, 5, 6], [7, 8, 9]])\n",
    "last_two_rows = my_2d_array[-2:, :]\n",
    "\n",
    "print(\"Last two rows:\")\n",
    "print(last_two_rows)\n"
   ]
  },
  {
   "cell_type": "code",
   "execution_count": null,
   "id": "ab9b054f",
   "metadata": {},
   "outputs": [],
   "source": []
  }
 ],
 "metadata": {
  "kernelspec": {
   "display_name": "Python 3 (ipykernel)",
   "language": "python",
   "name": "python3"
  },
  "language_info": {
   "codemirror_mode": {
    "name": "ipython",
    "version": 3
   },
   "file_extension": ".py",
   "mimetype": "text/x-python",
   "name": "python",
   "nbconvert_exporter": "python",
   "pygments_lexer": "ipython3",
   "version": "3.11.5"
  }
 },
 "nbformat": 4,
 "nbformat_minor": 5
}
