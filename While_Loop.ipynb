{
 "cells": [
  {
   "cell_type": "code",
   "execution_count": 6,
   "id": "3faa339b",
   "metadata": {},
   "outputs": [
    {
     "name": "stdout",
     "output_type": "stream",
     "text": [
      "1\n",
      "2\n",
      "3\n",
      "4\n",
      "5\n",
      "6\n",
      "7\n",
      "8\n",
      "9\n",
      "10\n"
     ]
    }
   ],
   "source": [
    "#Write a program that prints numbers from 1 to 10 using a while loop.\n",
    "\n",
    "x = 1\n",
    "while x <= 10:\n",
    "    print(x)\n",
    "    x+=1 "
   ]
  },
  {
   "cell_type": "code",
   "execution_count": 5,
   "id": "9da8f74f",
   "metadata": {},
   "outputs": [
    {
     "name": "stdout",
     "output_type": "stream",
     "text": [
      "The sum of numbers from 1 to 100 is: 5050\n"
     ]
    }
   ],
   "source": [
    "#Write a program that calculates the sum of numbers from 1 to 100 using a while loop.\n",
    "\n",
    "\n",
    "sum_of_numbers = 0\n",
    "x = 1\n",
    "\n",
    "while x <= 100:\n",
    "    sum_of_numbers += x\n",
    "    x += 1\n",
    "    \n",
    "print(\"The sum of numbers from 1 to 100 is:\", sum_of_numbers)"
   ]
  },
  {
   "cell_type": "code",
   "execution_count": 26,
   "id": "906ec4fb",
   "metadata": {},
   "outputs": [
    {
     "name": "stdout",
     "output_type": "stream",
     "text": [
      "The number of even numbers between 1 and 50 is: 25\n"
     ]
    }
   ],
   "source": [
    " #Write a program that counts the number of even numbers between 1 and 50 using a while loop.\n",
    "\n",
    "\n",
    "count_of_even_numbers = 0\n",
    "x = 1\n",
    "\n",
    "while x <= 50:\n",
    "\n",
    "    \n",
    "    if x % 2 == 0:\n",
    "        count_of_even_numbers += 1\n",
    "    x += 1\n",
    "     \n",
    "    \n",
    "print(\"The number of even numbers between 1 and 50 is:\", count_of_even_numbers)\n",
    "    "
   ]
  },
  {
   "cell_type": "code",
   "execution_count": 9,
   "id": "eff8559b",
   "metadata": {},
   "outputs": [
    {
     "name": "stdout",
     "output_type": "stream",
     "text": [
      "Enter something (or 'q' to quit): l\n",
      "Enter something (or 'q' to quit): q\n",
      "You entered 'q'. The program is now quitting.\n"
     ]
    }
   ],
   "source": [
    "#Write a program that takes input from the user until they enter 'q' to quit using a while loop\n",
    "\n",
    "\n",
    "user_input = \"\"\n",
    "\n",
    "while user_input.lower() != 'q':\n",
    "    user_input = input(\"Enter something (or 'q' to quit): \")\n",
    "print(\"You entered 'q'. The program is now quitting.\")"
   ]
  },
  {
   "cell_type": "code",
   "execution_count": 10,
   "id": "a954ff01",
   "metadata": {},
   "outputs": [
    {
     "name": "stdout",
     "output_type": "stream",
     "text": [
      "Enter the number for multiplication table: 4\n",
      "4 x 1 = 4\n",
      "4 x 2 = 8\n",
      "4 x 3 = 12\n",
      "4 x 4 = 16\n",
      "4 x 5 = 20\n",
      "4 x 6 = 24\n",
      "4 x 7 = 28\n",
      "4 x 8 = 32\n",
      "4 x 9 = 36\n",
      "4 x 10 = 40\n"
     ]
    }
   ],
   "source": [
    "#Write a program that prints the multiplication table of a given number using a while loop.\n",
    "\n",
    "number = int(input(\"Enter the number for multiplication table: \"))\n",
    "\n",
    "multiplier = 1\n",
    "while multiplier <= 10:\n",
    "    result = number * multiplier\n",
    "    print(f\"{number} x {multiplier} = {result}\")\n",
    "    multiplier += 1"
   ]
  },
  {
   "cell_type": "code",
   "execution_count": null,
   "id": "4a54da1f",
   "metadata": {},
   "outputs": [],
   "source": []
  },
  {
   "cell_type": "code",
   "execution_count": null,
   "id": "2d901fa2",
   "metadata": {},
   "outputs": [],
   "source": []
  },
  {
   "cell_type": "code",
   "execution_count": null,
   "id": "6c779242",
   "metadata": {},
   "outputs": [],
   "source": []
  },
  {
   "cell_type": "code",
   "execution_count": null,
   "id": "aa20145c",
   "metadata": {},
   "outputs": [],
   "source": []
  }
 ],
 "metadata": {
  "kernelspec": {
   "display_name": "Python 3 (ipykernel)",
   "language": "python",
   "name": "python3"
  },
  "language_info": {
   "codemirror_mode": {
    "name": "ipython",
    "version": 3
   },
   "file_extension": ".py",
   "mimetype": "text/x-python",
   "name": "python",
   "nbconvert_exporter": "python",
   "pygments_lexer": "ipython3",
   "version": "3.11.5"
  }
 },
 "nbformat": 4,
 "nbformat_minor": 5
}
