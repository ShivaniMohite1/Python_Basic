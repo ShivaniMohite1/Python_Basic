{
 "cells": [
  {
   "cell_type": "code",
   "execution_count": 1,
   "id": "b0f6d2bd",
   "metadata": {},
   "outputs": [],
   "source": [
    "import numpy as np\n",
    "import pandas as pd"
   ]
  },
  {
   "cell_type": "markdown",
   "id": "275c6b41",
   "metadata": {},
   "source": [
    "Load the dataset first"
   ]
  },
  {
   "cell_type": "code",
   "execution_count": 2,
   "id": "91396d72",
   "metadata": {},
   "outputs": [
    {
     "data": {
      "text/html": [
       "<div>\n",
       "<style scoped>\n",
       "    .dataframe tbody tr th:only-of-type {\n",
       "        vertical-align: middle;\n",
       "    }\n",
       "\n",
       "    .dataframe tbody tr th {\n",
       "        vertical-align: top;\n",
       "    }\n",
       "\n",
       "    .dataframe thead th {\n",
       "        text-align: right;\n",
       "    }\n",
       "</style>\n",
       "<table border=\"1\" class=\"dataframe\">\n",
       "  <thead>\n",
       "    <tr style=\"text-align: right;\">\n",
       "      <th></th>\n",
       "      <th>Date</th>\n",
       "      <th>Product</th>\n",
       "      <th>Category</th>\n",
       "      <th>Quantity</th>\n",
       "      <th>Revenue</th>\n",
       "    </tr>\n",
       "  </thead>\n",
       "  <tbody>\n",
       "    <tr>\n",
       "      <th>0</th>\n",
       "      <td>2023-07-01</td>\n",
       "      <td>Product A</td>\n",
       "      <td>Category1</td>\n",
       "      <td>10</td>\n",
       "      <td>100</td>\n",
       "    </tr>\n",
       "    <tr>\n",
       "      <th>1</th>\n",
       "      <td>2023-07-01</td>\n",
       "      <td>Product B</td>\n",
       "      <td>Category1</td>\n",
       "      <td>5</td>\n",
       "      <td>50</td>\n",
       "    </tr>\n",
       "    <tr>\n",
       "      <th>2</th>\n",
       "      <td>2023-07-01</td>\n",
       "      <td>Product A</td>\n",
       "      <td>Category2</td>\n",
       "      <td>8</td>\n",
       "      <td>80</td>\n",
       "    </tr>\n",
       "    <tr>\n",
       "      <th>3</th>\n",
       "      <td>2023-07-02</td>\n",
       "      <td>Product B</td>\n",
       "      <td>Category2</td>\n",
       "      <td>12</td>\n",
       "      <td>120</td>\n",
       "    </tr>\n",
       "    <tr>\n",
       "      <th>4</th>\n",
       "      <td>2023-07-02</td>\n",
       "      <td>Product C</td>\n",
       "      <td>Category1</td>\n",
       "      <td>6</td>\n",
       "      <td>60</td>\n",
       "    </tr>\n",
       "    <tr>\n",
       "      <th>5</th>\n",
       "      <td>2023-07-02</td>\n",
       "      <td>Product A</td>\n",
       "      <td>Category1</td>\n",
       "      <td>7</td>\n",
       "      <td>70</td>\n",
       "    </tr>\n",
       "    <tr>\n",
       "      <th>6</th>\n",
       "      <td>2023-07-03</td>\n",
       "      <td>Product C</td>\n",
       "      <td>Category2</td>\n",
       "      <td>15</td>\n",
       "      <td>150</td>\n",
       "    </tr>\n",
       "    <tr>\n",
       "      <th>7</th>\n",
       "      <td>2023-07-03</td>\n",
       "      <td>Product B</td>\n",
       "      <td>Category1</td>\n",
       "      <td>9</td>\n",
       "      <td>90</td>\n",
       "    </tr>\n",
       "  </tbody>\n",
       "</table>\n",
       "</div>"
      ],
      "text/plain": [
       "         Date    Product   Category  Quantity  Revenue\n",
       "0  2023-07-01  Product A  Category1        10      100\n",
       "1  2023-07-01  Product B  Category1         5       50\n",
       "2  2023-07-01  Product A  Category2         8       80\n",
       "3  2023-07-02  Product B  Category2        12      120\n",
       "4  2023-07-02  Product C  Category1         6       60\n",
       "5  2023-07-02  Product A  Category1         7       70\n",
       "6  2023-07-03  Product C  Category2        15      150\n",
       "7  2023-07-03  Product B  Category1         9       90"
      ]
     },
     "execution_count": 2,
     "metadata": {},
     "output_type": "execute_result"
    }
   ],
   "source": [
    "df = pd.DataFrame({\n",
    "    'Date': ['2023-07-01', '2023-07-01', '2023-07-01', '2023-07-02', '2023-07-02', '2023-07-02', '2023-07-03', '2023-07-03'],\n",
    "    'Product': ['Product A', 'Product B', 'Product A', 'Product B', 'Product C', 'Product A', 'Product C', 'Product B'],\n",
    "    'Category': ['Category1', 'Category1', 'Category2', 'Category2', 'Category1', 'Category1', 'Category2', 'Category1'],\n",
    "    'Quantity': [10, 5, 8, 12, 6, 7, 15, 9],\n",
    "    'Revenue': [100, 50, 80, 120, 60, 70, 150, 90]\n",
    "})\n",
    "\n",
    "\n",
    "\n",
    "df"
   ]
  },
  {
   "cell_type": "markdown",
   "id": "2bde13c3",
   "metadata": {},
   "source": [
    "Q.1 Using pandas groupby, calculate the total revenue and total quantity sold for each product and category in the sales dataset."
   ]
  },
  {
   "cell_type": "code",
   "execution_count": 4,
   "id": "b221ab2f",
   "metadata": {},
   "outputs": [
    {
     "data": {
      "text/html": [
       "<div>\n",
       "<style scoped>\n",
       "    .dataframe tbody tr th:only-of-type {\n",
       "        vertical-align: middle;\n",
       "    }\n",
       "\n",
       "    .dataframe tbody tr th {\n",
       "        vertical-align: top;\n",
       "    }\n",
       "\n",
       "    .dataframe thead th {\n",
       "        text-align: right;\n",
       "    }\n",
       "</style>\n",
       "<table border=\"1\" class=\"dataframe\">\n",
       "  <thead>\n",
       "    <tr style=\"text-align: right;\">\n",
       "      <th></th>\n",
       "      <th>Product</th>\n",
       "      <th>Category</th>\n",
       "      <th>Revenue</th>\n",
       "      <th>Quantity</th>\n",
       "    </tr>\n",
       "  </thead>\n",
       "  <tbody>\n",
       "    <tr>\n",
       "      <th>0</th>\n",
       "      <td>Product A</td>\n",
       "      <td>Category1</td>\n",
       "      <td>170</td>\n",
       "      <td>17</td>\n",
       "    </tr>\n",
       "    <tr>\n",
       "      <th>1</th>\n",
       "      <td>Product A</td>\n",
       "      <td>Category2</td>\n",
       "      <td>80</td>\n",
       "      <td>8</td>\n",
       "    </tr>\n",
       "    <tr>\n",
       "      <th>2</th>\n",
       "      <td>Product B</td>\n",
       "      <td>Category1</td>\n",
       "      <td>140</td>\n",
       "      <td>14</td>\n",
       "    </tr>\n",
       "    <tr>\n",
       "      <th>3</th>\n",
       "      <td>Product B</td>\n",
       "      <td>Category2</td>\n",
       "      <td>120</td>\n",
       "      <td>12</td>\n",
       "    </tr>\n",
       "    <tr>\n",
       "      <th>4</th>\n",
       "      <td>Product C</td>\n",
       "      <td>Category1</td>\n",
       "      <td>60</td>\n",
       "      <td>6</td>\n",
       "    </tr>\n",
       "    <tr>\n",
       "      <th>5</th>\n",
       "      <td>Product C</td>\n",
       "      <td>Category2</td>\n",
       "      <td>150</td>\n",
       "      <td>15</td>\n",
       "    </tr>\n",
       "  </tbody>\n",
       "</table>\n",
       "</div>"
      ],
      "text/plain": [
       "     Product   Category  Revenue  Quantity\n",
       "0  Product A  Category1      170        17\n",
       "1  Product A  Category2       80         8\n",
       "2  Product B  Category1      140        14\n",
       "3  Product B  Category2      120        12\n",
       "4  Product C  Category1       60         6\n",
       "5  Product C  Category2      150        15"
      ]
     },
     "execution_count": 4,
     "metadata": {},
     "output_type": "execute_result"
    }
   ],
   "source": [
    " df.groupby(['Product', 'Category']).agg({'Revenue': 'sum', 'Quantity': 'sum'}).reset_index()"
   ]
  },
  {
   "cell_type": "markdown",
   "id": "a749f373",
   "metadata": {},
   "source": [
    "Q.2 Using pandas groupby, find the date with the highest total revenue and the date with the highest total quantity sold."
   ]
  },
  {
   "cell_type": "code",
   "execution_count": 5,
   "id": "a9b253ae",
   "metadata": {},
   "outputs": [
    {
     "data": {
      "text/plain": [
       "0   2023-07-01\n",
       "1   2023-07-01\n",
       "2   2023-07-01\n",
       "3   2023-07-02\n",
       "4   2023-07-02\n",
       "5   2023-07-02\n",
       "6   2023-07-03\n",
       "7   2023-07-03\n",
       "Name: Date, dtype: datetime64[ns]"
      ]
     },
     "execution_count": 5,
     "metadata": {},
     "output_type": "execute_result"
    }
   ],
   "source": [
    "pd.to_datetime(df['Date'])\n"
   ]
  },
  {
   "cell_type": "code",
   "execution_count": 7,
   "id": "fa6e5e2f",
   "metadata": {},
   "outputs": [
    {
     "data": {
      "text/plain": [
       "'2023-07-02'"
      ]
     },
     "execution_count": 7,
     "metadata": {},
     "output_type": "execute_result"
    }
   ],
   "source": [
    "result = df.groupby('Date').agg({'Revenue': 'sum', 'Quantity': 'sum'}).reset_index()\n",
    "max_revenue_date = result.loc[result['Revenue'].idxmax(), 'Date']\n",
    "max_revenue_date"
   ]
  },
  {
   "cell_type": "code",
   "execution_count": 9,
   "id": "e7be53b6",
   "metadata": {},
   "outputs": [
    {
     "data": {
      "text/plain": [
       "'2023-07-02'"
      ]
     },
     "execution_count": 9,
     "metadata": {},
     "output_type": "execute_result"
    }
   ],
   "source": [
    "result = df.groupby('Date').agg({'Revenue': 'sum', 'Quantity': 'sum'}).reset_index()\n",
    "max_quantity_date = result.loc[result['Quantity'].idxmax(), 'Date']\n",
    "max_quantity_date = result.loc[result['Quantity'].idxmax(), 'Date']\n",
    "max_quantity_date"
   ]
  },
  {
   "cell_type": "code",
   "execution_count": 10,
   "id": "0cb1e0aa",
   "metadata": {},
   "outputs": [
    {
     "name": "stdout",
     "output_type": "stream",
     "text": [
      "Date with the highest total revenue: 2023-07-02 00:00:00\n",
      "Date with the highest total quantity sold: 2023-07-02 00:00:00\n"
     ]
    }
   ],
   "source": [
    "df['Date'] = pd.to_datetime(df['Date'])\n",
    "result = df.groupby('Date').agg({'Revenue': 'sum', 'Quantity': 'sum'}).reset_index()\n",
    "\n",
    "max_revenue_date = result.loc[result['Revenue'].idxmax(), 'Date']\n",
    "\n",
    "max_quantity_date = result.loc[result['Quantity'].idxmax(), 'Date']\n",
    "\n",
    "print(\"Date with the highest total revenue:\", max_revenue_date)\n",
    "print(\"Date with the highest total quantity sold:\", max_quantity_date)\n",
    "\n"
   ]
  },
  {
   "cell_type": "markdown",
   "id": "67041dc6",
   "metadata": {},
   "source": [
    "Q.3 Using pandas groupby, calculate the average revenue per day for each product and category."
   ]
  },
  {
   "cell_type": "code",
   "execution_count": 11,
   "id": "f262a655",
   "metadata": {},
   "outputs": [
    {
     "data": {
      "text/html": [
       "<div>\n",
       "<style scoped>\n",
       "    .dataframe tbody tr th:only-of-type {\n",
       "        vertical-align: middle;\n",
       "    }\n",
       "\n",
       "    .dataframe tbody tr th {\n",
       "        vertical-align: top;\n",
       "    }\n",
       "\n",
       "    .dataframe thead th {\n",
       "        text-align: right;\n",
       "    }\n",
       "</style>\n",
       "<table border=\"1\" class=\"dataframe\">\n",
       "  <thead>\n",
       "    <tr style=\"text-align: right;\">\n",
       "      <th></th>\n",
       "      <th>Date</th>\n",
       "      <th>Product</th>\n",
       "      <th>Category</th>\n",
       "      <th>Revenue</th>\n",
       "    </tr>\n",
       "  </thead>\n",
       "  <tbody>\n",
       "    <tr>\n",
       "      <th>0</th>\n",
       "      <td>2023-07-01</td>\n",
       "      <td>Product A</td>\n",
       "      <td>Category1</td>\n",
       "      <td>100.0</td>\n",
       "    </tr>\n",
       "    <tr>\n",
       "      <th>1</th>\n",
       "      <td>2023-07-01</td>\n",
       "      <td>Product A</td>\n",
       "      <td>Category2</td>\n",
       "      <td>80.0</td>\n",
       "    </tr>\n",
       "    <tr>\n",
       "      <th>2</th>\n",
       "      <td>2023-07-01</td>\n",
       "      <td>Product B</td>\n",
       "      <td>Category1</td>\n",
       "      <td>50.0</td>\n",
       "    </tr>\n",
       "    <tr>\n",
       "      <th>3</th>\n",
       "      <td>2023-07-02</td>\n",
       "      <td>Product A</td>\n",
       "      <td>Category1</td>\n",
       "      <td>70.0</td>\n",
       "    </tr>\n",
       "    <tr>\n",
       "      <th>4</th>\n",
       "      <td>2023-07-02</td>\n",
       "      <td>Product B</td>\n",
       "      <td>Category2</td>\n",
       "      <td>120.0</td>\n",
       "    </tr>\n",
       "    <tr>\n",
       "      <th>5</th>\n",
       "      <td>2023-07-02</td>\n",
       "      <td>Product C</td>\n",
       "      <td>Category1</td>\n",
       "      <td>60.0</td>\n",
       "    </tr>\n",
       "    <tr>\n",
       "      <th>6</th>\n",
       "      <td>2023-07-03</td>\n",
       "      <td>Product B</td>\n",
       "      <td>Category1</td>\n",
       "      <td>90.0</td>\n",
       "    </tr>\n",
       "    <tr>\n",
       "      <th>7</th>\n",
       "      <td>2023-07-03</td>\n",
       "      <td>Product C</td>\n",
       "      <td>Category2</td>\n",
       "      <td>150.0</td>\n",
       "    </tr>\n",
       "  </tbody>\n",
       "</table>\n",
       "</div>"
      ],
      "text/plain": [
       "        Date    Product   Category  Revenue\n",
       "0 2023-07-01  Product A  Category1    100.0\n",
       "1 2023-07-01  Product A  Category2     80.0\n",
       "2 2023-07-01  Product B  Category1     50.0\n",
       "3 2023-07-02  Product A  Category1     70.0\n",
       "4 2023-07-02  Product B  Category2    120.0\n",
       "5 2023-07-02  Product C  Category1     60.0\n",
       "6 2023-07-03  Product B  Category1     90.0\n",
       "7 2023-07-03  Product C  Category2    150.0"
      ]
     },
     "execution_count": 11,
     "metadata": {},
     "output_type": "execute_result"
    }
   ],
   "source": [
    "df['Date'] = pd.to_datetime(df['Date'])\n",
    "average_revenue_per_day = df.groupby(['Date', 'Product', 'Category']).agg({'Revenue': 'mean'}).reset_index()\n",
    "average_revenue_per_day"
   ]
  },
  {
   "cell_type": "code",
   "execution_count": null,
   "id": "8f33cda2",
   "metadata": {},
   "outputs": [],
   "source": []
  }
 ],
 "metadata": {
  "kernelspec": {
   "display_name": "Python 3 (ipykernel)",
   "language": "python",
   "name": "python3"
  },
  "language_info": {
   "codemirror_mode": {
    "name": "ipython",
    "version": 3
   },
   "file_extension": ".py",
   "mimetype": "text/x-python",
   "name": "python",
   "nbconvert_exporter": "python",
   "pygments_lexer": "ipython3",
   "version": "3.11.5"
  }
 },
 "nbformat": 4,
 "nbformat_minor": 5
}
