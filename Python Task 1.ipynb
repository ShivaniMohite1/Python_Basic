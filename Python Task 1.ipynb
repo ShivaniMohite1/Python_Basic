{
 "cells": [
  {
   "cell_type": "code",
   "execution_count": 4,
   "id": "20b6ac8f",
   "metadata": {},
   "outputs": [
    {
     "name": "stdout",
     "output_type": "stream",
     "text": [
      "Enter your salary: 50000\n",
      "Enter your years of service: 5\n",
      "you are not eligible for a bonus of salary\n"
     ]
    }
   ],
   "source": [
    " #Q.1 ] A company decided to give bonus of 5% to employee if his/her year of service is more than 5 years. Ask user for their salary and year of service and print the net bonus amount.\n",
    "    \n",
    "salary = float(input(\"Enter your salary: \"))\n",
    "years_of_service = int(input(\"Enter your years of service: \"))\n",
    "\n",
    "#Check if the year of service is more than 5\n",
    "    \n",
    "if years_of_service > 5:\n",
    "    #Calculate the bonus(5% of salary)\n",
    "    bonus = 0.05 * salary\n",
    "    print(f\" You are eligible for a bonus of ${ bonus :2f}\")\n",
    "     \n",
    "    \n",
    "else:\n",
    "    print(\"you are not eligible for a bonus of salary\")\n",
    "        \n",
    "        \n",
    "\n",
    "\n",
    "        \n",
    "    "
   ]
  },
  {
   "cell_type": "code",
   "execution_count": 18,
   "id": "604fba5a",
   "metadata": {},
   "outputs": [
    {
     "name": "stdout",
     "output_type": "stream",
     "text": [
      "Enter your marks:50\n",
      " Your grade is: C\n"
     ]
    }
   ],
   "source": [
    " # Q2. A school has following rules for grading system: a. Below 25 - F b. 25 to 45 - E c. 45 to 50 - D d. 50 to 60 - C e. 60 to 80 - B f. Above 80 - A Ask user to enter marks and print the corresponding grade.\n",
    " \n",
    "marks = float(input(\"Enter your marks:\"))\n",
    "\n",
    "if marks < 25:\n",
    "    grade = \"f\"\n",
    "elif 25 <= marks < 45 :\n",
    "    grade = \"E\"\n",
    "elif 45 <= marks < 50 :\n",
    "    grade = \"D\"\n",
    "elif 50 <= marks < 60:\n",
    "    grade = \"C\"\n",
    "elif 60 <= marks < 80:\n",
    "    grade = \"B\"\n",
    "else:\n",
    "    grade = \"A\"\n",
    "    \n",
    "# Print the corresponding grade\n",
    "print(f\" Your grade is: {grade}\")\n",
    "    \n",
    "\n",
    "        \n",
    "\n"
   ]
  },
  {
   "cell_type": "code",
   "execution_count": 24,
   "id": "913bd4f5",
   "metadata": {},
   "outputs": [
    {
     "name": "stdout",
     "output_type": "stream",
     "text": [
      "Do you have a medical cause? (Enter 'Y' or 'N'): N\n",
      "Enter your attendance percentage: 60\n",
      "Not Allowed.\n"
     ]
    }
   ],
   "source": [
    "# Q3.Write a program to allow student to sit if he/she has medical cause. Take input from user she/he has medical cause or not ( 'Y' or 'N' )and also take input from user for attendance (int).if she/he has medical cause 'Y' then whatever his/her attendance it will give message as \"You are allowed\" and if 'N' then his/her attendance should be greater than 75 then it will give message \"Allowed\" otherwise \"Not Allowed\". \n",
    "\n",
    "\n",
    "medical_cause = input(\"Do you have a medical cause? (Enter 'Y' or 'N'): \").upper()\n",
    "attendance = int(input(\"Enter your attendance percentage: \"))\n",
    "\n",
    "# Check if the student is allowed to sit based on the conditions\n",
    "if medical_cause == 'Y':\n",
    "    print(\"You are allowed.\")\n",
    "elif attendance > 75:\n",
    "    print(\"Allowed.\")\n",
    "else:\n",
    "    print(\"Not Allowed.\")"
   ]
  },
  {
   "cell_type": "code",
   "execution_count": 26,
   "id": "aa7bc969",
   "metadata": {},
   "outputs": [
    {
     "name": "stdout",
     "output_type": "stream",
     "text": [
      "Enter a number: 88\n",
      "88 is not divisible by 5.\n"
     ]
    }
   ],
   "source": [
    "# Q4.Take input from from user and check the number is divisible by 5 or not.\n",
    "\n",
    "num = int(input(\"Enter a number: \"))\n",
    "\n",
    "# Check if the number is divisible by 5\n",
    "if num % 5 == 0:\n",
    "    print(f\"{num} is divisible by 5.\")\n",
    "else:\n",
    "    print(f\"{num} is not divisible by 5.\")"
   ]
  },
  {
   "cell_type": "code",
   "execution_count": 29,
   "id": "d9d1520c",
   "metadata": {},
   "outputs": [
    {
     "name": "stdout",
     "output_type": "stream",
     "text": [
      "Enter a number from 1 to 7: 6\n",
      "The day corresponding to 6 is Saturday.\n"
     ]
    }
   ],
   "source": [
    "# Q5.write a program to accept a number from 1 to 7 and display the name of the day like 1 for \"Monday\" 2 for \"Tuesday and so on up to 7 for \"Sunday\" otherwise \"Oops!Incorrect\".\n",
    "\n",
    "\n",
    "number_day= int(input(\"Enter a number from 1 to 7: \"))\n",
    "\n",
    "# Check the input and display the corresponding day\n",
    "if 1 <= number_day <= 7:\n",
    "    days_of_week = [\"Monday\", \"Tuesday\", \"Wednesday\", \"Thursday\", \"Friday\", \"Saturday\", \"Sunday\"]\n",
    "    day_name = days_of_week[number_day - 1]\n",
    "    print(f\"The day corresponding to {number_day} is {day_name}.\")\n",
    "else:\n",
    "    print(\"Oops! Incorrect input. Please enter a number between 1 and 7.\")"
   ]
  },
  {
   "cell_type": "code",
   "execution_count": 30,
   "id": "72e89dc0",
   "metadata": {},
   "outputs": [
    {
     "name": "stdout",
     "output_type": "stream",
     "text": [
      "Enter a number: 77\n",
      "77 is not divisible by both 2 and 3.\n"
     ]
    }
   ],
   "source": [
    " # Q6.Write a program to whether a number(accepted from user) is divisible by 2 and 3 both.\n",
    "    \n",
    "number = int(input(\"Enter a number: \"))\n",
    "\n",
    "# Check if the number is divisible by both 2 and 3\n",
    "if number % 2 == 0 and number % 3 == 0:\n",
    "    print(f\"{number} is divisible by both 2 and 3.\")\n",
    "else:\n",
    "    print(f\"{number} is not divisible by both 2 and 3.\")"
   ]
  }
 ],
 "metadata": {
  "kernelspec": {
   "display_name": "Python 3 (ipykernel)",
   "language": "python",
   "name": "python3"
  },
  "language_info": {
   "codemirror_mode": {
    "name": "ipython",
    "version": 3
   },
   "file_extension": ".py",
   "mimetype": "text/x-python",
   "name": "python",
   "nbconvert_exporter": "python",
   "pygments_lexer": "ipython3",
   "version": "3.11.5"
  }
 },
 "nbformat": 4,
 "nbformat_minor": 5
}
