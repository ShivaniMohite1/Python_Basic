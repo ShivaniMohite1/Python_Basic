{
 "cells": [
  {
   "cell_type": "code",
   "execution_count": 1,
   "id": "19890790",
   "metadata": {},
   "outputs": [
    {
     "name": "stdout",
     "output_type": "stream",
     "text": [
      "[1, 2, 3, 4, 5, 6, 7, 8, 9, 10]\n"
     ]
    }
   ],
   "source": [
    "#Q1.Write a program to print first 10 natural numbers.\n",
    "\n",
    "natural_numbers = [number for number in range(1, 11)]\n",
    "print(natural_numbers)"
   ]
  },
  {
   "cell_type": "code",
   "execution_count": 1,
   "id": "2cf0a647",
   "metadata": {},
   "outputs": [
    {
     "name": "stdout",
     "output_type": "stream",
     "text": [
      "[2, 4, 6, 8, 10, 12, 14, 16, 18, 20]\n"
     ]
    }
   ],
   "source": [
    "#Q2.Write a program to print first 10 even numbers.(iterate through range) o/p:- 2 4 6 8 10 12 14 16 18 20\n",
    "\n",
    "even_number = [number for number in range(2, 21, 2)]\n",
    "print(even_number)"
   ]
  },
  {
   "cell_type": "code",
   "execution_count": 2,
   "id": "4a121a8c",
   "metadata": {},
   "outputs": [
    {
     "name": "stdout",
     "output_type": "stream",
     "text": [
      "[1, 3, 5, 7, 9, 11, 13, 15, 17, 19]\n"
     ]
    }
   ],
   "source": [
    "# Q3.Write a program to print first 10 odd numbers.(iterate through range) o/p:- 1 3 5 7 9 11 13 15 17 19\n",
    "\n",
    "odd_number = [number for number in range(1, 20, 2)]\n",
    "print(odd_number)"
   ]
  },
  {
   "cell_type": "code",
   "execution_count": null,
   "id": "6ec390cb",
   "metadata": {},
   "outputs": [],
   "source": [
    "#Q4.Write a program to print first 10 even numbers in reverse order.(iterate through range) o/p:- 22 20 18 16 14 12 10 8 6 4 2\n",
    "\n",
    "\n",
    "reverse_order_number = [number for number in range()]\n"
   ]
  }
 ],
 "metadata": {
  "kernelspec": {
   "display_name": "Python 3 (ipykernel)",
   "language": "python",
   "name": "python3"
  },
  "language_info": {
   "codemirror_mode": {
    "name": "ipython",
    "version": 3
   },
   "file_extension": ".py",
   "mimetype": "text/x-python",
   "name": "python",
   "nbconvert_exporter": "python",
   "pygments_lexer": "ipython3",
   "version": "3.11.5"
  }
 },
 "nbformat": 4,
 "nbformat_minor": 5
}
