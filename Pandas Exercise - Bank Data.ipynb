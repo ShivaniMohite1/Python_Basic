{
 "cells": [
  {
   "cell_type": "code",
   "execution_count": 1,
   "id": "14befd18",
   "metadata": {},
   "outputs": [],
   "source": [
    "import numpy as np\n",
    "import pandas as pd"
   ]
  },
  {
   "cell_type": "markdown",
   "id": "010e7b35",
   "metadata": {},
   "source": [
    "1] Import required library and load the csv file provided to you."
   ]
  },
  {
   "cell_type": "code",
   "execution_count": 2,
   "id": "02769d24",
   "metadata": {},
   "outputs": [
    {
     "data": {
      "text/html": [
       "<div>\n",
       "<style scoped>\n",
       "    .dataframe tbody tr th:only-of-type {\n",
       "        vertical-align: middle;\n",
       "    }\n",
       "\n",
       "    .dataframe tbody tr th {\n",
       "        vertical-align: top;\n",
       "    }\n",
       "\n",
       "    .dataframe thead th {\n",
       "        text-align: right;\n",
       "    }\n",
       "</style>\n",
       "<table border=\"1\" class=\"dataframe\">\n",
       "  <thead>\n",
       "    <tr style=\"text-align: right;\">\n",
       "      <th></th>\n",
       "      <th>Bank Name</th>\n",
       "      <th>City</th>\n",
       "      <th>ST</th>\n",
       "      <th>CERT</th>\n",
       "      <th>Acquiring Institution</th>\n",
       "      <th>Closing Date</th>\n",
       "      <th>Updated Date</th>\n",
       "    </tr>\n",
       "  </thead>\n",
       "  <tbody>\n",
       "    <tr>\n",
       "      <th>0</th>\n",
       "      <td>Fayette County Bank</td>\n",
       "      <td>Saint Elmo</td>\n",
       "      <td>IL</td>\n",
       "      <td>1802</td>\n",
       "      <td>United Fidelity Bank, fsb</td>\n",
       "      <td>26-May-17</td>\n",
       "      <td>1-Jun-17</td>\n",
       "    </tr>\n",
       "    <tr>\n",
       "      <th>1</th>\n",
       "      <td>Guaranty Bank, (d/b/a BestBank in Georgia &amp; Mi...</td>\n",
       "      <td>Milwaukee</td>\n",
       "      <td>WI</td>\n",
       "      <td>30003</td>\n",
       "      <td>First-Citizens Bank &amp; Trust Company</td>\n",
       "      <td>5-May-17</td>\n",
       "      <td>1-Jun-17</td>\n",
       "    </tr>\n",
       "    <tr>\n",
       "      <th>2</th>\n",
       "      <td>First NBC Bank</td>\n",
       "      <td>New Orleans</td>\n",
       "      <td>LA</td>\n",
       "      <td>58302</td>\n",
       "      <td>Whitney Bank</td>\n",
       "      <td>28-Apr-17</td>\n",
       "      <td>23-May-17</td>\n",
       "    </tr>\n",
       "    <tr>\n",
       "      <th>3</th>\n",
       "      <td>Proficio Bank</td>\n",
       "      <td>Cottonwood Heights</td>\n",
       "      <td>UT</td>\n",
       "      <td>35495</td>\n",
       "      <td>Cache Valley Bank</td>\n",
       "      <td>3-Mar-17</td>\n",
       "      <td>18-May-17</td>\n",
       "    </tr>\n",
       "    <tr>\n",
       "      <th>4</th>\n",
       "      <td>Seaway Bank and Trust Company</td>\n",
       "      <td>Chicago</td>\n",
       "      <td>IL</td>\n",
       "      <td>19328</td>\n",
       "      <td>State Bank of Texas</td>\n",
       "      <td>27-Jan-17</td>\n",
       "      <td>18-May-17</td>\n",
       "    </tr>\n",
       "    <tr>\n",
       "      <th>...</th>\n",
       "      <td>...</td>\n",
       "      <td>...</td>\n",
       "      <td>...</td>\n",
       "      <td>...</td>\n",
       "      <td>...</td>\n",
       "      <td>...</td>\n",
       "      <td>...</td>\n",
       "    </tr>\n",
       "    <tr>\n",
       "      <th>546</th>\n",
       "      <td>Superior Bank, FSB</td>\n",
       "      <td>Hinsdale</td>\n",
       "      <td>IL</td>\n",
       "      <td>32646</td>\n",
       "      <td>Superior Federal, FSB</td>\n",
       "      <td>27-Jul-01</td>\n",
       "      <td>19-Aug-14</td>\n",
       "    </tr>\n",
       "    <tr>\n",
       "      <th>547</th>\n",
       "      <td>Malta National Bank</td>\n",
       "      <td>Malta</td>\n",
       "      <td>OH</td>\n",
       "      <td>6629</td>\n",
       "      <td>North Valley Bank</td>\n",
       "      <td>3-May-01</td>\n",
       "      <td>18-Nov-02</td>\n",
       "    </tr>\n",
       "    <tr>\n",
       "      <th>548</th>\n",
       "      <td>First Alliance Bank &amp; Trust Co.</td>\n",
       "      <td>Manchester</td>\n",
       "      <td>NH</td>\n",
       "      <td>34264</td>\n",
       "      <td>Southern New Hampshire Bank &amp; Trust</td>\n",
       "      <td>2-Feb-01</td>\n",
       "      <td>18-Feb-03</td>\n",
       "    </tr>\n",
       "    <tr>\n",
       "      <th>549</th>\n",
       "      <td>National State Bank of Metropolis</td>\n",
       "      <td>Metropolis</td>\n",
       "      <td>IL</td>\n",
       "      <td>3815</td>\n",
       "      <td>Banterra Bank of Marion</td>\n",
       "      <td>14-Dec-00</td>\n",
       "      <td>17-Mar-05</td>\n",
       "    </tr>\n",
       "    <tr>\n",
       "      <th>550</th>\n",
       "      <td>Bank of Honolulu</td>\n",
       "      <td>Honolulu</td>\n",
       "      <td>HI</td>\n",
       "      <td>21029</td>\n",
       "      <td>Bank of the Orient</td>\n",
       "      <td>13-Oct-00</td>\n",
       "      <td>17-Mar-05</td>\n",
       "    </tr>\n",
       "  </tbody>\n",
       "</table>\n",
       "<p>551 rows × 7 columns</p>\n",
       "</div>"
      ],
      "text/plain": [
       "                                             Bank Name                City  \\\n",
       "0                                  Fayette County Bank          Saint Elmo   \n",
       "1    Guaranty Bank, (d/b/a BestBank in Georgia & Mi...           Milwaukee   \n",
       "2                                       First NBC Bank         New Orleans   \n",
       "3                                        Proficio Bank  Cottonwood Heights   \n",
       "4                        Seaway Bank and Trust Company             Chicago   \n",
       "..                                                 ...                 ...   \n",
       "546                                 Superior Bank, FSB            Hinsdale   \n",
       "547                                Malta National Bank               Malta   \n",
       "548                    First Alliance Bank & Trust Co.          Manchester   \n",
       "549                  National State Bank of Metropolis          Metropolis   \n",
       "550                                   Bank of Honolulu            Honolulu   \n",
       "\n",
       "     ST   CERT                Acquiring Institution Closing Date Updated Date  \n",
       "0    IL   1802            United Fidelity Bank, fsb    26-May-17     1-Jun-17  \n",
       "1    WI  30003  First-Citizens Bank & Trust Company     5-May-17     1-Jun-17  \n",
       "2    LA  58302                         Whitney Bank    28-Apr-17    23-May-17  \n",
       "3    UT  35495                    Cache Valley Bank     3-Mar-17    18-May-17  \n",
       "4    IL  19328                  State Bank of Texas    27-Jan-17    18-May-17  \n",
       "..   ..    ...                                  ...          ...          ...  \n",
       "546  IL  32646                Superior Federal, FSB    27-Jul-01    19-Aug-14  \n",
       "547  OH   6629                    North Valley Bank     3-May-01    18-Nov-02  \n",
       "548  NH  34264  Southern New Hampshire Bank & Trust     2-Feb-01    18-Feb-03  \n",
       "549  IL   3815              Banterra Bank of Marion    14-Dec-00    17-Mar-05  \n",
       "550  HI  21029                   Bank of the Orient    13-Oct-00    17-Mar-05  \n",
       "\n",
       "[551 rows x 7 columns]"
      ]
     },
     "execution_count": 2,
     "metadata": {},
     "output_type": "execute_result"
    }
   ],
   "source": [
    "df = pd.read_csv('banklist.csv')\n",
    "df"
   ]
  },
  {
   "cell_type": "markdown",
   "id": "bcd0548c",
   "metadata": {},
   "source": [
    "2] Show the head of the dataframe"
   ]
  },
  {
   "cell_type": "code",
   "execution_count": 3,
   "id": "6b5642a7",
   "metadata": {},
   "outputs": [
    {
     "data": {
      "text/html": [
       "<div>\n",
       "<style scoped>\n",
       "    .dataframe tbody tr th:only-of-type {\n",
       "        vertical-align: middle;\n",
       "    }\n",
       "\n",
       "    .dataframe tbody tr th {\n",
       "        vertical-align: top;\n",
       "    }\n",
       "\n",
       "    .dataframe thead th {\n",
       "        text-align: right;\n",
       "    }\n",
       "</style>\n",
       "<table border=\"1\" class=\"dataframe\">\n",
       "  <thead>\n",
       "    <tr style=\"text-align: right;\">\n",
       "      <th></th>\n",
       "      <th>Bank Name</th>\n",
       "      <th>City</th>\n",
       "      <th>ST</th>\n",
       "      <th>CERT</th>\n",
       "      <th>Acquiring Institution</th>\n",
       "      <th>Closing Date</th>\n",
       "      <th>Updated Date</th>\n",
       "    </tr>\n",
       "  </thead>\n",
       "  <tbody>\n",
       "    <tr>\n",
       "      <th>0</th>\n",
       "      <td>Fayette County Bank</td>\n",
       "      <td>Saint Elmo</td>\n",
       "      <td>IL</td>\n",
       "      <td>1802</td>\n",
       "      <td>United Fidelity Bank, fsb</td>\n",
       "      <td>26-May-17</td>\n",
       "      <td>1-Jun-17</td>\n",
       "    </tr>\n",
       "    <tr>\n",
       "      <th>1</th>\n",
       "      <td>Guaranty Bank, (d/b/a BestBank in Georgia &amp; Mi...</td>\n",
       "      <td>Milwaukee</td>\n",
       "      <td>WI</td>\n",
       "      <td>30003</td>\n",
       "      <td>First-Citizens Bank &amp; Trust Company</td>\n",
       "      <td>5-May-17</td>\n",
       "      <td>1-Jun-17</td>\n",
       "    </tr>\n",
       "    <tr>\n",
       "      <th>2</th>\n",
       "      <td>First NBC Bank</td>\n",
       "      <td>New Orleans</td>\n",
       "      <td>LA</td>\n",
       "      <td>58302</td>\n",
       "      <td>Whitney Bank</td>\n",
       "      <td>28-Apr-17</td>\n",
       "      <td>23-May-17</td>\n",
       "    </tr>\n",
       "    <tr>\n",
       "      <th>3</th>\n",
       "      <td>Proficio Bank</td>\n",
       "      <td>Cottonwood Heights</td>\n",
       "      <td>UT</td>\n",
       "      <td>35495</td>\n",
       "      <td>Cache Valley Bank</td>\n",
       "      <td>3-Mar-17</td>\n",
       "      <td>18-May-17</td>\n",
       "    </tr>\n",
       "    <tr>\n",
       "      <th>4</th>\n",
       "      <td>Seaway Bank and Trust Company</td>\n",
       "      <td>Chicago</td>\n",
       "      <td>IL</td>\n",
       "      <td>19328</td>\n",
       "      <td>State Bank of Texas</td>\n",
       "      <td>27-Jan-17</td>\n",
       "      <td>18-May-17</td>\n",
       "    </tr>\n",
       "  </tbody>\n",
       "</table>\n",
       "</div>"
      ],
      "text/plain": [
       "                                           Bank Name                City  ST  \\\n",
       "0                                Fayette County Bank          Saint Elmo  IL   \n",
       "1  Guaranty Bank, (d/b/a BestBank in Georgia & Mi...           Milwaukee  WI   \n",
       "2                                     First NBC Bank         New Orleans  LA   \n",
       "3                                      Proficio Bank  Cottonwood Heights  UT   \n",
       "4                      Seaway Bank and Trust Company             Chicago  IL   \n",
       "\n",
       "    CERT                Acquiring Institution Closing Date Updated Date  \n",
       "0   1802            United Fidelity Bank, fsb    26-May-17     1-Jun-17  \n",
       "1  30003  First-Citizens Bank & Trust Company     5-May-17     1-Jun-17  \n",
       "2  58302                         Whitney Bank    28-Apr-17    23-May-17  \n",
       "3  35495                    Cache Valley Bank     3-Mar-17    18-May-17  \n",
       "4  19328                  State Bank of Texas    27-Jan-17    18-May-17  "
      ]
     },
     "execution_count": 3,
     "metadata": {},
     "output_type": "execute_result"
    }
   ],
   "source": [
    "df.head()"
   ]
  },
  {
   "cell_type": "markdown",
   "id": "379840ce",
   "metadata": {},
   "source": [
    "3] What are the column names?"
   ]
  },
  {
   "cell_type": "code",
   "execution_count": 4,
   "id": "44d9129b",
   "metadata": {},
   "outputs": [
    {
     "data": {
      "text/plain": [
       "Index(['Bank Name', 'City', 'ST', 'CERT', 'Acquiring Institution',\n",
       "       'Closing Date', 'Updated Date'],\n",
       "      dtype='object')"
      ]
     },
     "execution_count": 4,
     "metadata": {},
     "output_type": "execute_result"
    }
   ],
   "source": [
    "df.columns"
   ]
  },
  {
   "cell_type": "markdown",
   "id": "b0427452",
   "metadata": {},
   "source": [
    "4] How many States (ST) are represented in this data set?"
   ]
  },
  {
   "cell_type": "code",
   "execution_count": 5,
   "id": "e4519c7b",
   "metadata": {},
   "outputs": [
    {
     "data": {
      "text/plain": [
       "44"
      ]
     },
     "execution_count": 5,
     "metadata": {},
     "output_type": "execute_result"
    }
   ],
   "source": [
    "df['ST'].nunique()"
   ]
  },
  {
   "cell_type": "markdown",
   "id": "ee59a4e9",
   "metadata": {},
   "source": [
    "5] Get a list or array of all the states in the data set"
   ]
  },
  {
   "cell_type": "code",
   "execution_count": 6,
   "id": "a5bffd71",
   "metadata": {},
   "outputs": [
    {
     "data": {
      "text/plain": [
       "array(['IL', 'WI', 'LA', 'UT', 'NJ', 'AR', 'GA', 'PA', 'TN', 'WA', 'CO',\n",
       "       'PR', 'FL', 'MN', 'CA', 'MD', 'OK', 'OH', 'SC', 'VA', 'ID', 'TX',\n",
       "       'CT', 'AZ', 'NV', 'NC', 'KY', 'MO', 'KS', 'AL', 'MI', 'IN', 'IA',\n",
       "       'NE', 'MS', 'NM', 'OR', 'NY', 'MA', 'SD', 'WY', 'WV', 'NH', 'HI'],\n",
       "      dtype=object)"
      ]
     },
     "execution_count": 6,
     "metadata": {},
     "output_type": "execute_result"
    }
   ],
   "source": [
    "df['ST'].unique()"
   ]
  },
  {
   "cell_type": "markdown",
   "id": "5243d20d",
   "metadata": {},
   "source": [
    "6] What are the top 5 states with the most failed banks?"
   ]
  },
  {
   "cell_type": "code",
   "execution_count": 14,
   "id": "b4e0b3b6",
   "metadata": {},
   "outputs": [
    {
     "data": {
      "text/plain": [
       "ST\n",
       "GA    93\n",
       "FL    75\n",
       "IL    67\n",
       "CA    41\n",
       "MN    23\n",
       "Name: Bank Name, dtype: int64"
      ]
     },
     "execution_count": 14,
     "metadata": {},
     "output_type": "execute_result"
    }
   ],
   "source": [
    "df.groupby('ST').count().sort_values('Bank Name', ascending=False).head(5)['Bank Name']\n"
   ]
  },
  {
   "cell_type": "code",
   "execution_count": 17,
   "id": "f9f20bca",
   "metadata": {},
   "outputs": [
    {
     "data": {
      "text/plain": [
       "ST\n",
       "GA    93\n",
       "FL    75\n",
       "IL    67\n",
       "CA    41\n",
       "MN    23\n",
       "Name: count, dtype: int64"
      ]
     },
     "execution_count": 17,
     "metadata": {},
     "output_type": "execute_result"
    }
   ],
   "source": [
    "df['ST'].value_counts().head(5)"
   ]
  },
  {
   "cell_type": "markdown",
   "id": "cdb5b8a6",
   "metadata": {},
   "source": [
    "7] What are the top 5 acquiring institutions?"
   ]
  },
  {
   "cell_type": "code",
   "execution_count": 18,
   "id": "744c19f6",
   "metadata": {},
   "outputs": [
    {
     "data": {
      "text/plain": [
       "Acquiring Institution\n",
       "No Acquirer                            31\n",
       "State Bank and Trust Company           12\n",
       "First-Citizens Bank & Trust Company    11\n",
       "Ameris Bank                            10\n",
       "U.S. Bank N.A.                          9\n",
       "Name: count, dtype: int64"
      ]
     },
     "execution_count": 18,
     "metadata": {},
     "output_type": "execute_result"
    }
   ],
   "source": [
    "df[\"Acquiring Institution\"].value_counts().head(5)\n"
   ]
  },
  {
   "cell_type": "markdown",
   "id": "88f826d7",
   "metadata": {},
   "source": [
    "8] How many banks has the State Bank of Texas acquired? How many of them were actually in Texas?"
   ]
  },
  {
   "cell_type": "code",
   "execution_count": 20,
   "id": "db3fa86b",
   "metadata": {},
   "outputs": [
    {
     "data": {
      "text/html": [
       "<div>\n",
       "<style scoped>\n",
       "    .dataframe tbody tr th:only-of-type {\n",
       "        vertical-align: middle;\n",
       "    }\n",
       "\n",
       "    .dataframe tbody tr th {\n",
       "        vertical-align: top;\n",
       "    }\n",
       "\n",
       "    .dataframe thead th {\n",
       "        text-align: right;\n",
       "    }\n",
       "</style>\n",
       "<table border=\"1\" class=\"dataframe\">\n",
       "  <thead>\n",
       "    <tr style=\"text-align: right;\">\n",
       "      <th></th>\n",
       "      <th>Bank Name</th>\n",
       "      <th>City</th>\n",
       "      <th>ST</th>\n",
       "      <th>CERT</th>\n",
       "      <th>Acquiring Institution</th>\n",
       "      <th>Closing Date</th>\n",
       "      <th>Updated Date</th>\n",
       "    </tr>\n",
       "  </thead>\n",
       "  <tbody>\n",
       "    <tr>\n",
       "      <th>4</th>\n",
       "      <td>Seaway Bank and Trust Company</td>\n",
       "      <td>Chicago</td>\n",
       "      <td>IL</td>\n",
       "      <td>19328</td>\n",
       "      <td>State Bank of Texas</td>\n",
       "      <td>27-Jan-17</td>\n",
       "      <td>18-May-17</td>\n",
       "    </tr>\n",
       "    <tr>\n",
       "      <th>21</th>\n",
       "      <td>The National Republic Bank of Chicago</td>\n",
       "      <td>Chicago</td>\n",
       "      <td>IL</td>\n",
       "      <td>916</td>\n",
       "      <td>State Bank of Texas</td>\n",
       "      <td>24-Oct-14</td>\n",
       "      <td>6-Jan-16</td>\n",
       "    </tr>\n",
       "    <tr>\n",
       "      <th>450</th>\n",
       "      <td>Millennium State Bank of Texas</td>\n",
       "      <td>Dallas</td>\n",
       "      <td>TX</td>\n",
       "      <td>57667</td>\n",
       "      <td>State Bank of Texas</td>\n",
       "      <td>2-Jul-09</td>\n",
       "      <td>26-Oct-12</td>\n",
       "    </tr>\n",
       "  </tbody>\n",
       "</table>\n",
       "</div>"
      ],
      "text/plain": [
       "                                 Bank Name     City  ST   CERT  \\\n",
       "4            Seaway Bank and Trust Company  Chicago  IL  19328   \n",
       "21   The National Republic Bank of Chicago  Chicago  IL    916   \n",
       "450         Millennium State Bank of Texas   Dallas  TX  57667   \n",
       "\n",
       "    Acquiring Institution Closing Date Updated Date  \n",
       "4     State Bank of Texas    27-Jan-17    18-May-17  \n",
       "21    State Bank of Texas    24-Oct-14     6-Jan-16  \n",
       "450   State Bank of Texas     2-Jul-09    26-Oct-12  "
      ]
     },
     "execution_count": 20,
     "metadata": {},
     "output_type": "execute_result"
    }
   ],
   "source": [
    "df[df['Acquiring Institution']=='State Bank of Texas']"
   ]
  },
  {
   "cell_type": "markdown",
   "id": "0a5c4add",
   "metadata": {},
   "source": [
    "9] What is the most common city in California for a bank to fail in?"
   ]
  },
  {
   "cell_type": "code",
   "execution_count": 23,
   "id": "d505e0b0",
   "metadata": {},
   "outputs": [
    {
     "data": {
      "text/plain": [
       "City\n",
       "Los Angeles      4\n",
       "San Diego        2\n",
       "Newport Beach    2\n",
       "San Francisco    2\n",
       "La Jolla         2\n",
       "Name: count, dtype: int64"
      ]
     },
     "execution_count": 23,
     "metadata": {},
     "output_type": "execute_result"
    }
   ],
   "source": [
    "df[df['ST']=='CA']['City'].value_counts().head()"
   ]
  },
  {
   "cell_type": "markdown",
   "id": "e32de772",
   "metadata": {},
   "source": [
    "10] How many failed banks don't have the word \"Bank\" in their name?"
   ]
  },
  {
   "cell_type": "code",
   "execution_count": 25,
   "id": "0b475395",
   "metadata": {},
   "outputs": [
    {
     "data": {
      "text/plain": [
       "14"
      ]
     },
     "execution_count": 25,
     "metadata": {},
     "output_type": "execute_result"
    }
   ],
   "source": [
    "sum(df['Bank Name'].apply(lambda X:\"Bank\" not in X))\n"
   ]
  },
  {
   "cell_type": "markdown",
   "id": "567261cb",
   "metadata": {},
   "source": [
    "11] How many bank names start with the letter 's' ?"
   ]
  },
  {
   "cell_type": "code",
   "execution_count": 30,
   "id": "d8841940",
   "metadata": {},
   "outputs": [
    {
     "data": {
      "text/plain": [
       "53"
      ]
     },
     "execution_count": 30,
     "metadata": {},
     "output_type": "execute_result"
    }
   ],
   "source": [
    "sum(df['Bank Name'].apply(lambda X:X[0].upper() == 'S'))"
   ]
  },
  {
   "cell_type": "markdown",
   "id": "15c9037e",
   "metadata": {},
   "source": [
    "12] How many CERT values are above 20000 ?"
   ]
  },
  {
   "cell_type": "code",
   "execution_count": 12,
   "id": "00a784fc",
   "metadata": {},
   "outputs": [
    {
     "data": {
      "text/html": [
       "<div>\n",
       "<style scoped>\n",
       "    .dataframe tbody tr th:only-of-type {\n",
       "        vertical-align: middle;\n",
       "    }\n",
       "\n",
       "    .dataframe tbody tr th {\n",
       "        vertical-align: top;\n",
       "    }\n",
       "\n",
       "    .dataframe thead th {\n",
       "        text-align: right;\n",
       "    }\n",
       "</style>\n",
       "<table border=\"1\" class=\"dataframe\">\n",
       "  <thead>\n",
       "    <tr style=\"text-align: right;\">\n",
       "      <th></th>\n",
       "      <th>Bank Name</th>\n",
       "      <th>City</th>\n",
       "      <th>ST</th>\n",
       "      <th>CERT</th>\n",
       "      <th>Acquiring Institution</th>\n",
       "      <th>Closing Date</th>\n",
       "      <th>Updated Date</th>\n",
       "    </tr>\n",
       "  </thead>\n",
       "  <tbody>\n",
       "    <tr>\n",
       "      <th>1</th>\n",
       "      <td>Guaranty Bank, (d/b/a BestBank in Georgia &amp; Mi...</td>\n",
       "      <td>Milwaukee</td>\n",
       "      <td>WI</td>\n",
       "      <td>30003</td>\n",
       "      <td>First-Citizens Bank &amp; Trust Company</td>\n",
       "      <td>5-May-17</td>\n",
       "      <td>1-Jun-17</td>\n",
       "    </tr>\n",
       "    <tr>\n",
       "      <th>2</th>\n",
       "      <td>First NBC Bank</td>\n",
       "      <td>New Orleans</td>\n",
       "      <td>LA</td>\n",
       "      <td>58302</td>\n",
       "      <td>Whitney Bank</td>\n",
       "      <td>28-Apr-17</td>\n",
       "      <td>23-May-17</td>\n",
       "    </tr>\n",
       "    <tr>\n",
       "      <th>3</th>\n",
       "      <td>Proficio Bank</td>\n",
       "      <td>Cottonwood Heights</td>\n",
       "      <td>UT</td>\n",
       "      <td>35495</td>\n",
       "      <td>Cache Valley Bank</td>\n",
       "      <td>3-Mar-17</td>\n",
       "      <td>18-May-17</td>\n",
       "    </tr>\n",
       "    <tr>\n",
       "      <th>5</th>\n",
       "      <td>Harvest Community Bank</td>\n",
       "      <td>Pennsville</td>\n",
       "      <td>NJ</td>\n",
       "      <td>34951</td>\n",
       "      <td>First-Citizens Bank &amp; Trust Company</td>\n",
       "      <td>13-Jan-17</td>\n",
       "      <td>18-May-17</td>\n",
       "    </tr>\n",
       "    <tr>\n",
       "      <th>8</th>\n",
       "      <td>First CornerStone Bank</td>\n",
       "      <td>King of Prussia</td>\n",
       "      <td>PA</td>\n",
       "      <td>35312</td>\n",
       "      <td>First-Citizens Bank &amp; Trust Company</td>\n",
       "      <td>6-May-16</td>\n",
       "      <td>6-Sep-16</td>\n",
       "    </tr>\n",
       "    <tr>\n",
       "      <th>...</th>\n",
       "      <td>...</td>\n",
       "      <td>...</td>\n",
       "      <td>...</td>\n",
       "      <td>...</td>\n",
       "      <td>...</td>\n",
       "      <td>...</td>\n",
       "      <td>...</td>\n",
       "    </tr>\n",
       "    <tr>\n",
       "      <th>544</th>\n",
       "      <td>Bank of Sierra Blanca</td>\n",
       "      <td>Sierra Blanca</td>\n",
       "      <td>TX</td>\n",
       "      <td>22002</td>\n",
       "      <td>The Security State Bank of Pecos</td>\n",
       "      <td>18-Jan-02</td>\n",
       "      <td>6-Nov-03</td>\n",
       "    </tr>\n",
       "    <tr>\n",
       "      <th>545</th>\n",
       "      <td>Hamilton Bank, NA</td>\n",
       "      <td>Miami</td>\n",
       "      <td>FL</td>\n",
       "      <td>24382</td>\n",
       "      <td>Israel Discount Bank of New York</td>\n",
       "      <td>11-Jan-02</td>\n",
       "      <td>21-Sep-15</td>\n",
       "    </tr>\n",
       "    <tr>\n",
       "      <th>546</th>\n",
       "      <td>Superior Bank, FSB</td>\n",
       "      <td>Hinsdale</td>\n",
       "      <td>IL</td>\n",
       "      <td>32646</td>\n",
       "      <td>Superior Federal, FSB</td>\n",
       "      <td>27-Jul-01</td>\n",
       "      <td>19-Aug-14</td>\n",
       "    </tr>\n",
       "    <tr>\n",
       "      <th>548</th>\n",
       "      <td>First Alliance Bank &amp; Trust Co.</td>\n",
       "      <td>Manchester</td>\n",
       "      <td>NH</td>\n",
       "      <td>34264</td>\n",
       "      <td>Southern New Hampshire Bank &amp; Trust</td>\n",
       "      <td>2-Feb-01</td>\n",
       "      <td>18-Feb-03</td>\n",
       "    </tr>\n",
       "    <tr>\n",
       "      <th>550</th>\n",
       "      <td>Bank of Honolulu</td>\n",
       "      <td>Honolulu</td>\n",
       "      <td>HI</td>\n",
       "      <td>21029</td>\n",
       "      <td>Bank of the Orient</td>\n",
       "      <td>13-Oct-00</td>\n",
       "      <td>17-Mar-05</td>\n",
       "    </tr>\n",
       "  </tbody>\n",
       "</table>\n",
       "<p>417 rows × 7 columns</p>\n",
       "</div>"
      ],
      "text/plain": [
       "                                             Bank Name                City  \\\n",
       "1    Guaranty Bank, (d/b/a BestBank in Georgia & Mi...           Milwaukee   \n",
       "2                                       First NBC Bank         New Orleans   \n",
       "3                                        Proficio Bank  Cottonwood Heights   \n",
       "5                               Harvest Community Bank          Pennsville   \n",
       "8                               First CornerStone Bank     King of Prussia   \n",
       "..                                                 ...                 ...   \n",
       "544                              Bank of Sierra Blanca       Sierra Blanca   \n",
       "545                                  Hamilton Bank, NA               Miami   \n",
       "546                                 Superior Bank, FSB            Hinsdale   \n",
       "548                    First Alliance Bank & Trust Co.          Manchester   \n",
       "550                                   Bank of Honolulu            Honolulu   \n",
       "\n",
       "     ST   CERT                Acquiring Institution Closing Date Updated Date  \n",
       "1    WI  30003  First-Citizens Bank & Trust Company     5-May-17     1-Jun-17  \n",
       "2    LA  58302                         Whitney Bank    28-Apr-17    23-May-17  \n",
       "3    UT  35495                    Cache Valley Bank     3-Mar-17    18-May-17  \n",
       "5    NJ  34951  First-Citizens Bank & Trust Company    13-Jan-17    18-May-17  \n",
       "8    PA  35312  First-Citizens Bank & Trust Company     6-May-16     6-Sep-16  \n",
       "..   ..    ...                                  ...          ...          ...  \n",
       "544  TX  22002     The Security State Bank of Pecos    18-Jan-02     6-Nov-03  \n",
       "545  FL  24382     Israel Discount Bank of New York    11-Jan-02    21-Sep-15  \n",
       "546  IL  32646                Superior Federal, FSB    27-Jul-01    19-Aug-14  \n",
       "548  NH  34264  Southern New Hampshire Bank & Trust     2-Feb-01    18-Feb-03  \n",
       "550  HI  21029                   Bank of the Orient    13-Oct-00    17-Mar-05  \n",
       "\n",
       "[417 rows x 7 columns]"
      ]
     },
     "execution_count": 12,
     "metadata": {},
     "output_type": "execute_result"
    }
   ],
   "source": [
    "df[(df['CERT']>20000)]"
   ]
  },
  {
   "cell_type": "markdown",
   "id": "48bce6b1",
   "metadata": {},
   "source": [
    "13] How many bank names consist of just two words? (e.g. \"First Bank\" , \"Bank Georgia\" )**"
   ]
  },
  {
   "cell_type": "code",
   "execution_count": 32,
   "id": "1262739d",
   "metadata": {},
   "outputs": [
    {
     "data": {
      "text/plain": [
       "114"
      ]
     },
     "execution_count": 32,
     "metadata": {},
     "output_type": "execute_result"
    }
   ],
   "source": [
    "sum(df['Bank Name'].apply(lambda X: len (X.split())==2))"
   ]
  },
  {
   "cell_type": "code",
   "execution_count": null,
   "id": "c2ccb25c",
   "metadata": {},
   "outputs": [],
   "source": []
  }
 ],
 "metadata": {
  "kernelspec": {
   "display_name": "Python 3 (ipykernel)",
   "language": "python",
   "name": "python3"
  },
  "language_info": {
   "codemirror_mode": {
    "name": "ipython",
    "version": 3
   },
   "file_extension": ".py",
   "mimetype": "text/x-python",
   "name": "python",
   "nbconvert_exporter": "python",
   "pygments_lexer": "ipython3",
   "version": "3.11.5"
  }
 },
 "nbformat": 4,
 "nbformat_minor": 5
}
