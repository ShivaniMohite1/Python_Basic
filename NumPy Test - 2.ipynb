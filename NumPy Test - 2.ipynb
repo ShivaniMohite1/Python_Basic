{
 "cells": [
  {
   "cell_type": "code",
   "execution_count": 8,
   "id": "7af37ce5",
   "metadata": {},
   "outputs": [
    {
     "name": "stdout",
     "output_type": "stream",
     "text": [
      "Random Matrix:\n",
      "[[0.93214489 0.22992408 0.99657509]\n",
      " [0.80279913 0.51857603 0.3940059 ]\n",
      " [0.05683522 0.88590171 0.18406017]]\n",
      "Average of all elements: 0.5556469118910168\n"
     ]
    }
   ],
   "source": [
    " # 1) Generate a 3x3 matrix of random values between 0 and 1. What is the average of all the elements?\n",
    "    \n",
    "import numpy as np\n",
    "\n",
    "\n",
    "random_matrix = np.random.rand(3, 3)\n",
    "average = np.mean(random_matrix)\n",
    "\n",
    "\n",
    "print(\"Random Matrix:\")\n",
    "print(random_matrix)\n",
    "print(\"Average of all elements:\", average)\n"
   ]
  },
  {
   "cell_type": "code",
   "execution_count": 7,
   "id": "79ac2617",
   "metadata": {},
   "outputs": [
    {
     "name": "stdout",
     "output_type": "stream",
     "text": [
      "Random Matrix:\n",
      "[[0.68977739 0.9661985  0.94842937 0.42406251 0.63202897 0.84450813\n",
      "  0.87681569 0.21904601]\n",
      " [0.92233152 0.61772179 0.93946285 0.12048319 0.55925627 0.26711407\n",
      "  0.53225489 0.04478797]]\n",
      "Maximum value among all elements: 0.9661984954830823\n"
     ]
    }
   ],
   "source": [
    "# 2) Generate a 2x8 matrix of random values. What is the maximum value among all the elements?\n",
    "\n",
    "import numpy as np\n",
    "\n",
    "random_matrix = np.random.rand(2, 8)\n",
    "\n",
    "max_value = np.max(random_matrix)\n",
    "\n",
    "\n",
    "print(\"Random Matrix:\")\n",
    "print(random_matrix)\n",
    "print(\"Maximum value among all elements:\", max_value)\n"
   ]
  },
  {
   "cell_type": "code",
   "execution_count": 6,
   "id": "e1117333",
   "metadata": {},
   "outputs": [
    {
     "name": "stdout",
     "output_type": "stream",
     "text": [
      "Random Matrix from Standard Normal Distribution:\n",
      "[[-1.18495466  1.23295208  0.16677616  1.10216708]\n",
      " [ 0.63075103 -0.01820137  0.95282091 -0.59199962]\n",
      " [ 0.28279518  0.90198171 -1.16595391 -0.06179812]\n",
      " [ 1.07628304 -0.32715052 -2.42667726 -0.38079082]]\n",
      "Mean of all elements: 0.011812556372175972\n"
     ]
    }
   ],
   "source": [
    "# 3) Generate a 4x4 matrix of random values from a standard normal distribution. What is the mean of all the elements?`\n",
    "\n",
    "import numpy as np\n",
    "\n",
    "\n",
    "random_matrix = np.random.randn(4, 4)\n",
    "\n",
    "mean_value = np.mean(random_matrix)\n",
    "\n",
    "print(\"Random Matrix from Standard Normal Distribution:\")\n",
    "print(random_matrix)\n",
    "print(\"Mean of all elements:\", mean_value)\n"
   ]
  },
  {
   "cell_type": "code",
   "execution_count": 9,
   "id": "9e31bd57",
   "metadata": {},
   "outputs": [
    {
     "name": "stdout",
     "output_type": "stream",
     "text": [
      " Random Integer Matrix:\n",
      "[[ 23 -81 -65 -16 -30]\n",
      " [ 72 -84  11  20  -9]\n",
      " [  8  52  21 -85  14]\n",
      " [ 90 -31  18  24 -55]]\n",
      "Sum of elements in the third column: -15\n"
     ]
    }
   ],
   "source": [
    "# 4) Create a 4x5 matrix of random integers between -100 and 100. What is the sum of the elements in the third column?\n",
    "\n",
    "import numpy as np\n",
    "\n",
    "\n",
    "random_matrix = np.random.randint(-100, 101, size=(4, 5))\n",
    "\n",
    "sum_third_column = np.sum(random_matrix[:, 2])\n",
    "\n",
    "\n",
    "print(\" Random Integer Matrix:\")\n",
    "print(random_matrix)\n",
    "print(\"Sum of elements in the third column:\", sum_third_column)\n"
   ]
  },
  {
   "cell_type": "code",
   "execution_count": 10,
   "id": "6500bb3b",
   "metadata": {},
   "outputs": [
    {
     "name": "stdout",
     "output_type": "stream",
     "text": [
      "1D Array:\n",
      "[ 1  2  3  4  5  6  7  8  9 10 11 12]\n",
      "Reshaped 3x4 Matrix:\n",
      "[[ 1  2  3  4]\n",
      " [ 5  6  7  8]\n",
      " [ 9 10 11 12]]\n",
      "Sum of all elements in the matrix: 78\n"
     ]
    }
   ],
   "source": [
    "# 5) Create a 1D array of numbers from 1 to 12. Reshape it into a 3x4 matrix. What is the sum of all the elements in the matrix?\n",
    "\n",
    "import numpy as np\n",
    "\n",
    "\n",
    "array_1d = np.arange(1, 13)\n",
    "\n",
    "matrix_3x4 = array_1d.reshape(3, 4)\n",
    "\n",
    "sum_of_elements = np.sum(matrix_3x4)\n",
    "\n",
    "print(\"1D Array:\")\n",
    "print(array_1d)\n",
    "print(\"Reshaped 3x4 Matrix:\")\n",
    "print(matrix_3x4)\n",
    "print(\"Sum of all elements in the matrix:\", sum_of_elements)\n"
   ]
  },
  {
   "cell_type": "code",
   "execution_count": 11,
   "id": "11238781",
   "metadata": {},
   "outputs": [
    {
     "name": "stdout",
     "output_type": "stream",
     "text": [
      "2D Array:\n",
      "[[0. 0. 0. 0. 0. 0.]\n",
      " [0. 0. 0. 0. 0. 0.]\n",
      " [0. 0. 0. 0. 0. 0.]\n",
      " [0. 0. 0. 0. 0. 0.]]\n",
      "Shape of the array: (4, 6)\n"
     ]
    }
   ],
   "source": [
    "# 6) 6)\tCreate a 2D array with dimensions 4x6. What is the shape of the array?\n",
    "\n",
    "import numpy as np\n",
    "\n",
    "array_2d = np.zeros((4, 6))\n",
    "\n",
    "print(\"2D Array:\")\n",
    "print(array_2d)\n",
    "print(\"Shape of the array:\", array_2d.shape)\n"
   ]
  },
  {
   "cell_type": "code",
   "execution_count": 12,
   "id": "126f0e12",
   "metadata": {},
   "outputs": [
    {
     "name": "stdout",
     "output_type": "stream",
     "text": [
      "1D Array:\n",
      "[ 1  2  3  4  5  6  7  8  9 10 11 12 13 14 15]\n",
      "Reshaped 3x5 Matrix:\n",
      "[[ 1  2  3  4  5]\n",
      " [ 6  7  8  9 10]\n",
      " [11 12 13 14 15]]\n",
      "New shape of the matrix: (3, 5)\n"
     ]
    }
   ],
   "source": [
    "# 7) 7)\tGenerate a 1D array with 15 elements. Reshape it into a 3x5 matrix. What is the new shape of the matrix?\n",
    "\n",
    "import numpy as np\n",
    "\n",
    "\n",
    "array_1d = np.arange(1, 16)\n",
    "\n",
    "\n",
    "matrix_3x5 = array_1d.reshape(3, 5)\n",
    "\n",
    "print(\"1D Array:\")\n",
    "print(array_1d)\n",
    "print(\"Reshaped 3x5 Matrix:\")\n",
    "print(matrix_3x5)\n",
    "print(\"New shape of the matrix:\", matrix_3x5.shape)\n"
   ]
  },
  {
   "cell_type": "code",
   "execution_count": null,
   "id": "88b944d5",
   "metadata": {},
   "outputs": [],
   "source": []
  }
 ],
 "metadata": {
  "kernelspec": {
   "display_name": "Python 3 (ipykernel)",
   "language": "python",
   "name": "python3"
  },
  "language_info": {
   "codemirror_mode": {
    "name": "ipython",
    "version": 3
   },
   "file_extension": ".py",
   "mimetype": "text/x-python",
   "name": "python",
   "nbconvert_exporter": "python",
   "pygments_lexer": "ipython3",
   "version": "3.11.5"
  }
 },
 "nbformat": 4,
 "nbformat_minor": 5
}
