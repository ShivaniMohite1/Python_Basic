{
 "cells": [
  {
   "cell_type": "code",
   "execution_count": 1,
   "id": "abc4b11c",
   "metadata": {},
   "outputs": [
    {
     "name": "stdout",
     "output_type": "stream",
     "text": [
      "Element at the second row and third column: 6\n"
     ]
    }
   ],
   "source": [
    "#1. Given the following 2D array array_2d, how can you access the element at the second row and third column?\n",
    "\n",
    "import numpy as np\n",
    "\n",
    "array_2d = np.array([[1, 2, 3], [4, 5, 6], [7, 8, 9]])\n",
    "\n",
    "element = array_2d[1, 2]\n",
    "\n",
    "print(\"Element at the second row and third column:\", element)\n"
   ]
  },
  {
   "cell_type": "code",
   "execution_count": 2,
   "id": "30576c18",
   "metadata": {},
   "outputs": [
    {
     "name": "stdout",
     "output_type": "stream",
     "text": [
      "Element at the first row and third column: 3\n"
     ]
    }
   ],
   "source": [
    "# 2. Given the following 2D array array_2d, how can you access the element at the first row and third column?\n",
    "\n",
    "import numpy as np\n",
    "\n",
    "array_2d = np.array([[1, 2, 3], [4, 5, 6], [7, 8, 9]])\n",
    "element = array_2d[0, 2]\n",
    "\n",
    "print(\"Element at the first row and third column:\", element)\n"
   ]
  },
  {
   "cell_type": "code",
   "execution_count": 3,
   "id": "9ccb6ecd",
   "metadata": {},
   "outputs": [
    {
     "name": "stdout",
     "output_type": "stream",
     "text": [
      "First row: [1 2 3]\n"
     ]
    }
   ],
   "source": [
    "# 3. Using indexing, how can you extract the first row of array_2d?\n",
    "\n",
    "import numpy as np\n",
    "\n",
    "\n",
    "array_2d = np.array([[1, 2, 3], [4, 5, 6], [7, 8, 9]])\n",
    "\n",
    "first_row = array_2d[0, :]\n",
    "\n",
    "print(\"First row:\", first_row)\n"
   ]
  },
  {
   "cell_type": "code",
   "execution_count": 4,
   "id": "e14369c6",
   "metadata": {},
   "outputs": [
    {
     "name": "stdout",
     "output_type": "stream",
     "text": [
      "Second column: [2 5 8]\n"
     ]
    }
   ],
   "source": [
    "# 4. How can you access the second column of array_2d?\n",
    "\n",
    "import numpy as np\n",
    "\n",
    "\n",
    "array_2d = np.array([[1, 2, 3], [4, 5, 6], [7, 8, 9]])\n",
    "second_column = array_2d[:, 1]\n",
    "\n",
    "\n",
    "print(\"Second column:\", second_column)\n"
   ]
  },
  {
   "cell_type": "code",
   "execution_count": 5,
   "id": "97bd3f86",
   "metadata": {},
   "outputs": [
    {
     "name": "stdout",
     "output_type": "stream",
     "text": [
      "Original 2D Array:\n",
      "[[1 2 3]\n",
      " [4 5 6]\n",
      " [7 8 9]]\n",
      "New array with elements greater than 4:\n",
      "[5 6 7 8 9]\n"
     ]
    }
   ],
   "source": [
    "# 5. Given array_2d, how can you create a new array containing only the elements that are greater than 4\n",
    "\n",
    "import numpy as np\n",
    "\n",
    "\n",
    "array_2d = np.array([[1, 2, 3], [4, 5, 6], [7, 8, 9]])\n",
    "\n",
    "\n",
    "filtered_array = array_2d[array_2d > 4]\n",
    "\n",
    "print(\"Original 2D Array:\")\n",
    "print(array_2d)\n",
    "print(\"New array with elements greater than 4:\")\n",
    "print(filtered_array)\n"
   ]
  },
  {
   "cell_type": "code",
   "execution_count": null,
   "id": "da1c35df",
   "metadata": {},
   "outputs": [],
   "source": []
  }
 ],
 "metadata": {
  "kernelspec": {
   "display_name": "Python 3 (ipykernel)",
   "language": "python",
   "name": "python3"
  },
  "language_info": {
   "codemirror_mode": {
    "name": "ipython",
    "version": 3
   },
   "file_extension": ".py",
   "mimetype": "text/x-python",
   "name": "python",
   "nbconvert_exporter": "python",
   "pygments_lexer": "ipython3",
   "version": "3.11.5"
  }
 },
 "nbformat": 4,
 "nbformat_minor": 5
}
